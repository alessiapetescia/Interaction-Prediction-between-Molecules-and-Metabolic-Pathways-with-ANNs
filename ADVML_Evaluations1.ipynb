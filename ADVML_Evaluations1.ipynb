{
  "nbformat": 4,
  "nbformat_minor": 0,
  "metadata": {
    "colab": {
      "name": "ADVML_Evaluations1.ipynb",
      "provenance": [],
      "collapsed_sections": []
    },
    "kernelspec": {
      "name": "python3",
      "display_name": "Python 3"
    },
    "accelerator": "GPU"
  },
  "cells": [
    {
      "cell_type": "code",
      "metadata": {
        "id": "bGjjSaouIH-c",
        "colab_type": "code",
        "colab": {}
      },
      "source": [
        "import pandas as pd\n",
        "import numpy as np\n",
        "import matplotlib.pyplot as plt\n",
        "from sklearn import metrics\n",
        "from sklearn import model_selection\n",
        "from numpy.random import seed\n",
        "seedval = 13\n",
        "seed(seedval)\n",
        "from tensorflow.random import set_seed\n",
        "set_seed(seedval)"
      ],
      "execution_count": null,
      "outputs": []
    },
    {
      "cell_type": "code",
      "metadata": {
        "id": "n053Swg8IqJj",
        "colab_type": "code",
        "colab": {}
      },
      "source": [
        "import json\n",
        "pathAREtrainx = '/content/drive/My Drive/SMILES/SR-ARE_wholetraining_x.txt'\n",
        "pathAREtrainy = '/content/drive/My Drive/SMILES/SR-ARE_wholetraining_y.txt'\n",
        "pathAREscorex = '/content/drive/My Drive/SMILES/SR-ARE_score_x.txt'\n",
        "pathAREscorey = '/content/drive/My Drive/SMILES/SR-ARE_score_y.txt'\n",
        "\n",
        "pathMMPtrainx = '/content/drive/My Drive/SMILES/SR-MMP_wholetraining_x.txt'\n",
        "pathMMPtrainy = '/content/drive/My Drive/SMILES/SR-MMP_wholetraining_y.txt'\n",
        "pathMMPscorex = '/content/drive/My Drive/SMILES/SR-MMP_score_x.txt'\n",
        "pathMMPscorey = '/content/drive/My Drive/SMILES/SR-MMP_score_y.txt'\n",
        "\n",
        "pathERtrainx = '/content/drive/My Drive/SMILES/NR-ER_wholetraining_x.txt'\n",
        "pathERtrainy = '/content/drive/My Drive/SMILES/NR-ER_wholetraining_y.txt'\n",
        "pathERscorex = '/content/drive/My Drive/SMILES/NR-ER_score_x.txt'\n",
        "pathERscorey = '/content/drive/My Drive/SMILES/NR-ER_score_y.txt'\n",
        "\n",
        "pathAhRtrainx = '/content/drive/My Drive/SMILES/NR-AhR_wholetraining_x.txt'\n",
        "pathAhRtrainy = '/content/drive/My Drive/SMILES/NR-AhR_wholetraining_y.txt'\n",
        "pathAhRscorex = '/content/drive/My Drive/SMILES/NR-AhR_score_x.txt'\n",
        "pathAhRscorey = '/content/drive/My Drive/SMILES/NR-AhR_score_y.txt'\n",
        "\n",
        "# function to load data from path\n",
        "def load_from_path(path):\n",
        "  with open(path) as f:\n",
        "      data = json.load(f)\n",
        "  return data\n",
        "\n",
        "# function taking a data list and creating a tensor of (n molecules, length, features)\n",
        "def molecular_tensor(moldata, maxlen=400, numfeat=42):\n",
        "  M_list = []\n",
        "  for mol in moldata:\n",
        "    mol_matrix = np.reshape(mol, (400, 42))\n",
        "    M_list.append(mol_matrix)\n",
        "  M_tensor = np.array(M_list)\n",
        "  return M_tensor "
      ],
      "execution_count": null,
      "outputs": []
    },
    {
      "cell_type": "code",
      "metadata": {
        "id": "aWQZS64ZT35W",
        "colab_type": "code",
        "colab": {}
      },
      "source": [
        "# train dataset actual creation\n",
        "\n",
        "AREtraindata = load_from_path(pathAREtrainx)\n",
        "AREtraindata = molecular_tensor(AREtraindata)\n",
        "AREtrainclass = load_from_path(pathAREtrainy)\n",
        "AREtrainclass = np.array(AREtrainclass)\n",
        "\n",
        "MMPtraindata = load_from_path(pathMMPtrainx)\n",
        "MMPtraindata = molecular_tensor(MMPtraindata)\n",
        "MMPtrainclass = load_from_path(pathMMPtrainy)\n",
        "MMPtrainclass = np.array(MMPtrainclass)\n",
        "\n",
        "ERtraindata = load_from_path(pathERtrainx)\n",
        "ERtraindata = molecular_tensor(ERtraindata)\n",
        "ERtrainclass = load_from_path(pathERtrainy)\n",
        "ERtrainclass = np.array(ERtrainclass)\n",
        "\n",
        "AhRtraindata = load_from_path(pathAhRtrainx)\n",
        "AhRtraindata = molecular_tensor(AhRtraindata)\n",
        "AhRtrainclass = load_from_path(pathAhRtrainy)\n",
        "AhRtrainclass = np.array(AhRtrainclass)\n"
      ],
      "execution_count": null,
      "outputs": []
    },
    {
      "cell_type": "code",
      "metadata": {
        "id": "PXO3JVViWUzt",
        "colab_type": "code",
        "colab": {}
      },
      "source": [
        "# score dataset\n",
        "AREscoredata = load_from_path(pathAREscorex)\n",
        "AREscoredata = molecular_tensor(AREscoredata)\n",
        "AREscoreclass = load_from_path(pathAREscorey)\n",
        "AREscoreclass = np.array(AREscoreclass)\n",
        "\n",
        "MMPscoredata = load_from_path(pathMMPscorex)\n",
        "MMPscoredata = molecular_tensor(MMPscoredata)\n",
        "MMPscoreclass = load_from_path(pathMMPscorey)\n",
        "MMPscoreclass = np.array(MMPscoreclass)\n",
        "\n",
        "ERscoredata = load_from_path(pathERscorex)\n",
        "ERscoredata = molecular_tensor(ERscoredata)\n",
        "ERscoreclass = load_from_path(pathERscorey)\n",
        "ERscoreclass = np.array(ERscoreclass)\n",
        "\n",
        "AhRscoredata = load_from_path(pathAhRscorex)\n",
        "AhRscoredata = molecular_tensor(AhRscoredata)\n",
        "AhRscoreclass = load_from_path(pathAhRscorey)\n",
        "AhRscoreclass = np.array(AhRscoreclass)"
      ],
      "execution_count": null,
      "outputs": []
    },
    {
      "cell_type": "code",
      "metadata": {
        "id": "gPnzCYxoVWSG",
        "colab_type": "code",
        "colab": {
          "base_uri": "https://localhost:8080/",
          "height": 34
        },
        "outputId": "595d4575-2213-49b2-d50e-4abdb50fd2ed"
      },
      "source": [
        "import tensorflow as tf\n",
        "from keras.models import Sequential\n",
        "from keras.layers import Dense, Dropout, Activation\n",
        "from keras.layers import LSTM, Conv1D, MaxPooling1D, AveragePooling1D, GlobalAveragePooling1D, GlobalMaxPooling1D\n",
        "from keras.layers.embeddings import Embedding\n",
        "\n",
        "def class_weight_calculator(molclass):\n",
        "  tot = len(molclass)\n",
        "  pos = sum(molclass.astype(int))\n",
        "  neg = tot - pos\n",
        "\n",
        "  w0 = (1. / neg) * tot / 2.\n",
        "  w1 = (1. / pos) * tot / 2.\n",
        "\n",
        "  cw = {'0': w0,\n",
        "        '1': w1}\n",
        "  return cw\n",
        "\n",
        "cwARE = class_weight_calculator(AREtrainclass)\n",
        "cwMMP = class_weight_calculator(MMPtrainclass)\n",
        "cwER = class_weight_calculator(ERtrainclass)\n",
        "cwAhR = class_weight_calculator(AhRtrainclass)\n",
        "\n",
        "def deep_model():\n",
        "  modeldeepcnn = Sequential() \n",
        "  modeldeepcnn.add(Conv1D(filters=120, kernel_size=15, activation='relu', input_shape=(400, 42), padding='same')) \n",
        "  modeldeepcnn.add(MaxPooling1D(3)) \n",
        "  modeldeepcnn.add(Conv1D(filters=120, kernel_size=15, activation='relu', padding='same')) \n",
        "  modeldeepcnn.add(MaxPooling1D(3)) \n",
        "  modeldeepcnn.add(Conv1D(filters=120, kernel_size=15, activation='relu', padding='same')) \n",
        "  modeldeepcnn.add(GlobalAveragePooling1D()) \n",
        "  modeldeepcnn.add(Dropout(0.5)) \n",
        "  modeldeepcnn.add(Dense(64, activation='relu')) \n",
        "  modeldeepcnn.add(Dense(1, activation='sigmoid')) \n",
        "  modeldeepcnn.compile(loss='binary_crossentropy', optimizer='adam', metrics=['accuracy', tf.keras.metrics.AUC()]) \n",
        "  return modeldeepcnn\n",
        "\n",
        "def wide_model_bigk():\n",
        "  modelmanywidecnn = Sequential() \n",
        "  modelmanywidecnn.add(Conv1D(filters=300, kernel_size=30, activation='relu', input_shape=(400, 42), padding='same')) \n",
        "  modelmanywidecnn.add(MaxPooling1D(3)) \n",
        "  modelmanywidecnn.add(Conv1D(filters=300, kernel_size=30, activation='relu', padding='same')) \n",
        "  modelmanywidecnn.add(GlobalAveragePooling1D()) \n",
        "  modelmanywidecnn.add(Dropout(0.5)) \n",
        "  modelmanywidecnn.add(Dense(64, activation='relu')) \n",
        "  modelmanywidecnn.add(Dense(1, activation='sigmoid')) \n",
        "  modelmanywidecnn.compile(loss='binary_crossentropy', optimizer='adam', metrics=['accuracy', tf.keras.metrics.AUC()])\n",
        "  return modelmanywidecnn\n",
        "\n",
        "def LSTM_400_200(embed_dim=6):\n",
        "  embedding_dim = embed_dim\n",
        "  features = Toembed_tensor.shape[2]\n",
        "  n_samples = Toembed_tensor.shape[0]\n",
        "  model = Sequential()\n",
        "  model.add(Embedding(n_samples, embedding_dim, input_length=400))\n",
        "  model.add(LSTM(400, return_sequences=True))\n",
        "  model.add(LSTM(200))\n",
        "  model.add(Dropout(0.5))\n",
        "  model.add(Dense(64, activation='relu'))\n",
        "  model.add(Dense(1, activation='sigmoid'))\n",
        "  model.compile(loss='binary_crossentropy', optimizer='adam', metrics=['accuracy', tf.keras.metrics.AUC()])\n",
        "  return model"
      ],
      "execution_count": null,
      "outputs": [
        {
          "output_type": "stream",
          "text": [
            "Using TensorFlow backend.\n"
          ],
          "name": "stderr"
        }
      ]
    },
    {
      "cell_type": "code",
      "metadata": {
        "id": "7kbRMlNeeCj6",
        "colab_type": "code",
        "colab": {}
      },
      "source": [
        "def model_evaluator(modelling, M_tensor, molclass, Test_tensor, testclass, cw, epos=3, runs=10, title='EVALUATION'):\n",
        "  pr_hat=[]\n",
        "  re_hat=[]\n",
        "  f1_hat=[]\n",
        "  avgacc_hat=[]\n",
        "  rocauc_hat=[]\n",
        "  for i in range(runs):\n",
        "    model = modelling() \n",
        "    # Fit the model\n",
        "    history = model.fit(M_tensor, molclass,\n",
        "                        epochs=epos, batch_size=256,\n",
        "                        verbose=False,\n",
        "                        class_weight=cw)\n",
        "\n",
        "    Y_test_predict = model.predict(Test_tensor)\n",
        "    y_true = testclass.astype(int)\n",
        "    y_pred = []\n",
        "    for prediction in Y_test_predict:\n",
        "        prediction = np.where(prediction>0.5, 1, 0)\n",
        "        y_pred.append(prediction)\n",
        "    y_pred = np.asarray(y_pred)\n",
        "    rep=classification_report(y_true, y_pred, output_dict=True)\n",
        "    pr, re, f1, avgacc, rocauc = rep['1']['precision'],rep['1']['recall'],rep['1']['f1-score'],rep['accuracy'], metrics.roc_auc_score(y_true, y_pred)\n",
        "    pr_hat.append(pr)\n",
        "    re_hat.append(re)\n",
        "    f1_hat.append(f1)\n",
        "    avgacc_hat.append(avgacc)\n",
        "    rocauc_hat.append(rocauc)\n",
        "    print('One run complete')\n",
        "\n",
        "  pr_sd=np.std(pr_hat)\n",
        "  re_sd=np.std(re_hat)\n",
        "  f1_sd=np.std(f1_hat)\n",
        "  avgacc_sd=np.std(avgacc_hat)\n",
        "  rocauc_sd=np.std(rocauc_hat)\n",
        "\n",
        "  pr_hat=np.mean(pr_hat)\n",
        "  re_hat=np.mean(re_hat)\n",
        "  f1_hat=np.mean(f1_hat)\n",
        "  avgacc_hat=np.mean(avgacc_hat)\n",
        "  rocauc_hat=np.mean(rocauc_hat)\n",
        "\n",
        "  print(title)\n",
        "  print('precision: %.2f +/- %.2f' % (pr_hat, pr_sd))\n",
        "  print('recall: %.2f +/- %.2f' % (re_hat, re_sd))\n",
        "  print('f1-score: %.2f +/- %.2f' % (f1_hat, f1_sd))\n",
        "  print('accuracy: %.2f +/- %.2f' % (avgacc_hat, avgacc_sd))\n",
        "  print('roc-auc: %.2f +/- %.2f' % (rocauc_hat, rocauc_sd))\n"
      ],
      "execution_count": null,
      "outputs": []
    },
    {
      "cell_type": "code",
      "metadata": {
        "id": "Lgk0QUWnxoHD",
        "colab_type": "code",
        "colab": {}
      },
      "source": [
        "from sklearn import metrics\n",
        "from sklearn.metrics import classification_report\n",
        "from sklearn.metrics import roc_auc_score"
      ],
      "execution_count": null,
      "outputs": []
    },
    {
      "cell_type": "markdown",
      "metadata": {
        "id": "-TSZy_CMiYuA",
        "colab_type": "text"
      },
      "source": [
        "**EVALUATING MODELS ON SR-ARE**"
      ]
    },
    {
      "cell_type": "code",
      "metadata": {
        "id": "2OlXAohNcZu1",
        "colab_type": "code",
        "colab": {
          "base_uri": "https://localhost:8080/",
          "height": 289
        },
        "outputId": "1518279c-b720-4c80-8509-c7aeee751fb7"
      },
      "source": [
        "# DEEP\n",
        "model_evaluator(deep_model,\n",
        "                AREtraindata, AREtrainclass,\n",
        "                AREscoredata, AREscoreclass, cw=cwARE,\n",
        "                epos=15,\n",
        "                title='TEST (SCORE) STATISTICS FOR DEEP CNN MODEL ON SR-ARE')"
      ],
      "execution_count": null,
      "outputs": [
        {
          "output_type": "stream",
          "text": [
            "One run complete\n",
            "One run complete\n",
            "One run complete\n",
            "One run complete\n",
            "One run complete\n",
            "One run complete\n",
            "One run complete\n",
            "One run complete\n",
            "One run complete\n",
            "One run complete\n",
            "TEST (SCORE) STATISTICS FOR DEEP CNN MODEL ON SR-ARE\n",
            "precision: 0.40 +/- 0.04\n",
            "recall: 0.54 +/- 0.10\n",
            "f1-score: 0.45 +/- 0.02\n",
            "accuracy: 0.78 +/- 0.04\n",
            "roc-auc: 0.69 +/- 0.02\n"
          ],
          "name": "stdout"
        }
      ]
    },
    {
      "cell_type": "code",
      "metadata": {
        "id": "3cHyJG5Pihls",
        "colab_type": "code",
        "colab": {
          "base_uri": "https://localhost:8080/",
          "height": 289
        },
        "outputId": "2a7516cd-3e63-416c-9d75-a7a59dbabe5f"
      },
      "source": [
        "# WIDE\n",
        "model_evaluator(wide_model_bigk,\n",
        "                AREtraindata, AREtrainclass,\n",
        "                AREscoredata, AREscoreclass, cw=cwARE,\n",
        "                epos=10,\n",
        "                title='TEST (SCORE) STATISTICS FOR WIDE CNN MODEL ON SR-ARE')"
      ],
      "execution_count": null,
      "outputs": [
        {
          "output_type": "stream",
          "text": [
            "One run complete\n",
            "One run complete\n",
            "One run complete\n",
            "One run complete\n",
            "One run complete\n",
            "One run complete\n",
            "One run complete\n",
            "One run complete\n",
            "One run complete\n",
            "One run complete\n",
            "TEST (SCORE) STATISTICS FOR WIDE CNN MODEL ON SR-ARE\n",
            "precision: 0.35 +/- 0.03\n",
            "recall: 0.59 +/- 0.10\n",
            "f1-score: 0.43 +/- 0.02\n",
            "accuracy: 0.74 +/- 0.03\n",
            "roc-auc: 0.68 +/- 0.02\n"
          ],
          "name": "stdout"
        }
      ]
    },
    {
      "cell_type": "markdown",
      "metadata": {
        "id": "b3sghNi8jMjt",
        "colab_type": "text"
      },
      "source": [
        "**EVALUATING MODELS ON SR-MMP**"
      ]
    },
    {
      "cell_type": "code",
      "metadata": {
        "id": "abQy3ZPLclxe",
        "colab_type": "code",
        "colab": {
          "base_uri": "https://localhost:8080/",
          "height": 289
        },
        "outputId": "53084580-b5b9-4ec2-acdc-c10253486bac"
      },
      "source": [
        "# DEEP\n",
        "model_evaluator(deep_model,\n",
        "                MMPtraindata, MMPtrainclass,\n",
        "                MMPscoredata, MMPscoreclass, cw=cwMMP,\n",
        "                epos=15,\n",
        "                title='TEST (SCORE) STATISTICS FOR DEEP CNN MODEL ON SR-MMP')"
      ],
      "execution_count": null,
      "outputs": [
        {
          "output_type": "stream",
          "text": [
            "One run complete\n",
            "One run complete\n",
            "One run complete\n",
            "One run complete\n",
            "One run complete\n",
            "One run complete\n",
            "One run complete\n",
            "One run complete\n",
            "One run complete\n",
            "One run complete\n",
            "TEST (SCORE) STATISTICS FOR DEEP CNN MODEL ON SR-MMP\n",
            "precision: 0.43 +/- 0.05\n",
            "recall: 0.77 +/- 0.06\n",
            "f1-score: 0.55 +/- 0.03\n",
            "accuracy: 0.86 +/- 0.02\n",
            "roc-auc: 0.82 +/- 0.02\n"
          ],
          "name": "stdout"
        }
      ]
    },
    {
      "cell_type": "code",
      "metadata": {
        "id": "SoiBtB28jnHX",
        "colab_type": "code",
        "colab": {
          "base_uri": "https://localhost:8080/",
          "height": 289
        },
        "outputId": "abb60e70-5525-49ba-e74b-c6c53125bc70"
      },
      "source": [
        "# WIDE\n",
        "model_evaluator(wide_model_bigk,\n",
        "                MMPtraindata, MMPtrainclass,\n",
        "                MMPscoredata, MMPscoreclass, cw=cwMMP,\n",
        "                epos=10,\n",
        "                title='TEST (SCORE) STATISTICS FOR WIDE CNN MODEL ON SR-MMP')"
      ],
      "execution_count": null,
      "outputs": [
        {
          "output_type": "stream",
          "text": [
            "One run complete\n",
            "One run complete\n",
            "One run complete\n",
            "One run complete\n",
            "One run complete\n",
            "One run complete\n",
            "One run complete\n",
            "One run complete\n",
            "One run complete\n",
            "One run complete\n",
            "TEST (SCORE) STATISTICS FOR WIDE CNN MODEL ON SR-MMP\n",
            "precision: 0.40 +/- 0.06\n",
            "recall: 0.81 +/- 0.10\n",
            "f1-score: 0.52 +/- 0.03\n",
            "accuracy: 0.84 +/- 0.03\n",
            "roc-auc: 0.83 +/- 0.03\n"
          ],
          "name": "stdout"
        }
      ]
    },
    {
      "cell_type": "markdown",
      "metadata": {
        "id": "P1aLyQHwjxlz",
        "colab_type": "text"
      },
      "source": [
        "**EVALUATING MODELS ON NR-ER**"
      ]
    },
    {
      "cell_type": "code",
      "metadata": {
        "id": "DUNXaA_rcoxv",
        "colab_type": "code",
        "colab": {
          "base_uri": "https://localhost:8080/",
          "height": 289
        },
        "outputId": "b019338c-2dd6-4f47-eaba-6e7fe0df6756"
      },
      "source": [
        "# DEEP\n",
        "model_evaluator(deep_model,\n",
        "                ERtraindata, ERtrainclass,\n",
        "                ERscoredata, ERscoreclass, cw=cwER,\n",
        "                epos=15,\n",
        "                title='TEST (SCORE) STATISTICS FOR DEEP CNN MODEL ON NR-ER')"
      ],
      "execution_count": null,
      "outputs": [
        {
          "output_type": "stream",
          "text": [
            "One run complete\n",
            "One run complete\n",
            "One run complete\n",
            "One run complete\n",
            "One run complete\n",
            "One run complete\n",
            "One run complete\n",
            "One run complete\n",
            "One run complete\n",
            "One run complete\n",
            "TEST (SCORE) STATISTICS FOR DEEP CNN MODEL ON NR-ER\n",
            "precision: 0.28 +/- 0.09\n",
            "recall: 0.40 +/- 0.12\n",
            "f1-score: 0.30 +/- 0.02\n",
            "accuracy: 0.82 +/- 0.05\n",
            "roc-auc: 0.63 +/- 0.03\n"
          ],
          "name": "stdout"
        }
      ]
    },
    {
      "cell_type": "code",
      "metadata": {
        "id": "oWY19EJJkDqi",
        "colab_type": "code",
        "colab": {
          "base_uri": "https://localhost:8080/",
          "height": 289
        },
        "outputId": "575a44b4-bef1-4213-ed49-7ce8c8b1597d"
      },
      "source": [
        "# WIDE\n",
        "model_evaluator(wide_model_bigk,\n",
        "                ERtraindata, ERtrainclass,\n",
        "                ERscoredata, ERscoreclass, cw=cwER,\n",
        "                epos=10,\n",
        "                title='TEST (SCORE) STATISTICS FOR WIDE CNN MODEL ON NR-ER')"
      ],
      "execution_count": null,
      "outputs": [
        {
          "output_type": "stream",
          "text": [
            "One run complete\n",
            "One run complete\n",
            "One run complete\n",
            "One run complete\n",
            "One run complete\n",
            "One run complete\n",
            "One run complete\n",
            "One run complete\n",
            "One run complete\n",
            "One run complete\n",
            "TEST (SCORE) STATISTICS FOR WIDE CNN MODEL ON NR-ER\n",
            "precision: 0.27 +/- 0.13\n",
            "recall: 0.47 +/- 0.11\n",
            "f1-score: 0.31 +/- 0.03\n",
            "accuracy: 0.80 +/- 0.04\n",
            "roc-auc: 0.65 +/- 0.03\n"
          ],
          "name": "stdout"
        }
      ]
    },
    {
      "cell_type": "markdown",
      "metadata": {
        "id": "bptjb3bRkSwr",
        "colab_type": "text"
      },
      "source": [
        "**EVALUATING MODELS ON NR-AhR**"
      ]
    },
    {
      "cell_type": "code",
      "metadata": {
        "id": "_9skvfdykOx9",
        "colab_type": "code",
        "colab": {
          "base_uri": "https://localhost:8080/",
          "height": 289
        },
        "outputId": "b87adb86-3472-4128-99a0-635b3525623a"
      },
      "source": [
        "# DEEP\n",
        "model_evaluator(deep_model,\n",
        "                AhRtraindata, AhRtrainclass,\n",
        "                AhRscoredata, AhRscoreclass,  cw=cwAhR,\n",
        "                epos=15,\n",
        "                title='TEST (SCORE) STATISTICS FOR DEEP CNN MODEL ON NR-AhR')"
      ],
      "execution_count": null,
      "outputs": [
        {
          "output_type": "stream",
          "text": [
            "One run complete\n",
            "One run complete\n",
            "One run complete\n",
            "One run complete\n",
            "One run complete\n",
            "One run complete\n",
            "One run complete\n",
            "One run complete\n",
            "One run complete\n",
            "One run complete\n",
            "TEST (SCORE) STATISTICS FOR DEEP CNN MODEL ON NR-AhR\n",
            "precision: 0.36 +/- 0.08\n",
            "recall: 0.80 +/- 0.13\n",
            "f1-score: 0.48 +/- 0.05\n",
            "accuracy: 0.79 +/- 0.07\n",
            "roc-auc: 0.79 +/- 0.02\n"
          ],
          "name": "stdout"
        }
      ]
    },
    {
      "cell_type": "code",
      "metadata": {
        "id": "OzLVGvSYkQRL",
        "colab_type": "code",
        "colab": {
          "base_uri": "https://localhost:8080/",
          "height": 289
        },
        "outputId": "4ca22a29-c873-4d82-e4b8-2f25956a1b63"
      },
      "source": [
        "# WIDE\n",
        "model_evaluator(wide_model_bigk,\n",
        "                AhRtraindata, AhRtrainclass,\n",
        "                AhRscoredata, AhRscoreclass,  cw=cwAhR,\n",
        "                epos=10,\n",
        "                title='TEST (SCORE) STATISTICS FOR WIDE CNN MODEL ON NR-AhR')"
      ],
      "execution_count": null,
      "outputs": [
        {
          "output_type": "stream",
          "text": [
            "One run complete\n",
            "One run complete\n",
            "One run complete\n",
            "One run complete\n",
            "One run complete\n",
            "One run complete\n",
            "One run complete\n",
            "One run complete\n",
            "One run complete\n",
            "One run complete\n",
            "TEST (SCORE) STATISTICS FOR WIDE CNN MODEL ON NR-AhR\n",
            "precision: 0.35 +/- 0.07\n",
            "recall: 0.78 +/- 0.13\n",
            "f1-score: 0.47 +/- 0.04\n",
            "accuracy: 0.79 +/- 0.07\n",
            "roc-auc: 0.79 +/- 0.03\n"
          ],
          "name": "stdout"
        }
      ]
    },
    {
      "cell_type": "code",
      "metadata": {
        "id": "17EYZZUbcmhw",
        "colab_type": "code",
        "colab": {}
      },
      "source": [
        "# LSTM EVALUATIONS\n",
        "\n",
        "toembedslice = list(range(5))+list(range(21,42))\n",
        "features = len(toembedslice)\n",
        "\n",
        "from keras.preprocessing import sequence\n",
        "\n",
        "def index_maker(M_tensor):\n",
        "  Toembed_tensor = M_tensor[:,:, toembedslice]\n",
        "  \n",
        "  Toembed_idxs = list()\n",
        "  for mol in Toembed_tensor:\n",
        "    molec = []\n",
        "    for block in mol:\n",
        "      try:\n",
        "        idx = list(block).index(1)\n",
        "        molec.append(idx)\n",
        "        if molec == None:\n",
        "          print(idx, molec)\n",
        "      except:\n",
        "        continue\n",
        "    Toembed_idxs.append(molec)\n",
        "  Toembed_idxs = sequence.pad_sequences(np.array(Toembed_idxs), maxlen=400)\n",
        "  return Toembed_idxs\n",
        "\n",
        "def LSTM_400_200(embed_dim=10, feats=features):\n",
        "  embedding_dim = embed_dim\n",
        "  model = Sequential()\n",
        "  model.add(Embedding(feats, embedding_dim, input_length=400))\n",
        "  model.add(LSTM(400, return_sequences=True))\n",
        "  model.add(LSTM(200))\n",
        "  model.add(Dropout(0.5))\n",
        "  model.add(Dense(64, activation='relu'))\n",
        "  model.add(Dense(1, activation='sigmoid'))\n",
        "  model.compile(loss='binary_crossentropy', optimizer='adam', metrics=['accuracy', tf.keras.metrics.AUC()])\n",
        "  return model\n",
        "\n",
        "def lstm_evaluator(modelling, Toembed_idxs, molclass, Toembtest_idxs, testclass, cw, epos=80, runs=3, title='EVALUATION'):\n",
        "  pr_hat=[]\n",
        "  re_hat=[]\n",
        "  f1_hat=[]\n",
        "  avgacc_hat=[]\n",
        "  rocauc_hat=[]\n",
        "  for i in range(runs):\n",
        "    model = modelling() \n",
        "    # Fit the model\n",
        "    history = model.fit(Toembed_idxs, molclass,\n",
        "                        epochs=epos, batch_size=256,\n",
        "                        verbose=False,\n",
        "                        class_weight=cw)\n",
        "\n",
        "    Y_test_predict = model.predict(Toembtest_idxs)\n",
        "    y_true = testclass.astype(int)\n",
        "    y_pred = []\n",
        "    for prediction in Y_test_predict:\n",
        "        prediction = np.where(prediction>0.5, 1, 0)\n",
        "        y_pred.append(prediction)\n",
        "    y_pred = np.asarray(y_pred)\n",
        "    rep=classification_report(y_true, y_pred, output_dict=True)\n",
        "    pr, re, f1, avgacc, rocauc = rep['1']['precision'],rep['1']['recall'],rep['1']['f1-score'],rep['accuracy'], metrics.roc_auc_score(y_true, y_pred)\n",
        "    pr_hat.append(pr)\n",
        "    re_hat.append(re)\n",
        "    f1_hat.append(f1)\n",
        "    avgacc_hat.append(avgacc)\n",
        "    rocauc_hat.append(rocauc)\n",
        "    print('One run complete')\n",
        "\n",
        "  pr_sd=np.std(pr_hat)\n",
        "  re_sd=np.std(re_hat)\n",
        "  f1_sd=np.std(f1_hat)\n",
        "  avgacc_sd=np.std(avgacc_hat)\n",
        "  rocauc_sd=np.std(rocauc_hat)\n",
        "\n",
        "  pr_hat=np.mean(pr_hat)\n",
        "  re_hat=np.mean(re_hat)\n",
        "  f1_hat=np.mean(f1_hat)\n",
        "  avgacc_hat=np.mean(avgacc_hat)\n",
        "  rocauc_hat=np.mean(rocauc_hat)\n",
        "\n",
        "  print(title)\n",
        "  print('precision: %.2f +/- %.2f' % (pr_hat, pr_sd))\n",
        "  print('recall: %.2f +/- %.2f' % (re_hat, re_sd))\n",
        "  print('f1-score: %.2f +/- %.2f' % (f1_hat, f1_sd))\n",
        "  print('accuracy: %.2f +/- %.2f' % (avgacc_hat, avgacc_sd))\n",
        "  print('roc-auc: %.2f +/- %.2f' % (rocauc_hat, rocauc_sd))"
      ],
      "execution_count": null,
      "outputs": []
    },
    {
      "cell_type": "code",
      "metadata": {
        "id": "VCwVucryvgbe",
        "colab_type": "code",
        "colab": {}
      },
      "source": [
        "ARE2embed_traindata = index_maker(AREtraindata)\n",
        "MMP2embed_traindata = index_maker(MMPtraindata) \n",
        "ER2embed_trainata = index_maker(ERtraindata),  \n",
        "AhR2embed_traindata = index_maker(AhRtraindata)\n",
        "\n",
        "ARE2embed_scoredata = index_maker(AREscoredata)\n",
        "MMP2embed_scoredata = index_maker(MMPscoredata) \n",
        "ER2embed_scoredata = index_maker(ERscoredata),  \n",
        "AhR2embed_scoredata = index_maker(AhRscoredata)\n",
        "\n"
      ],
      "execution_count": null,
      "outputs": []
    },
    {
      "cell_type": "markdown",
      "metadata": {
        "id": "4XKQQlcRyGFD",
        "colab_type": "text"
      },
      "source": [
        "**EVALUATING LSTM ON SR-ARE**"
      ]
    },
    {
      "cell_type": "code",
      "metadata": {
        "id": "m9bfqIXexIG7",
        "colab_type": "code",
        "colab": {
          "base_uri": "https://localhost:8080/",
          "height": 71
        },
        "outputId": "0de30727-6c5f-43c0-94a5-70d9f8f4e38b"
      },
      "source": [
        "lstm_evaluator(LSTM_400_200,\n",
        "               ARE2embed_traindata, AREtrainclass,\n",
        "               ARE2embed_scoredata, AREscoreclass,\n",
        "               cw=cwARE)"
      ],
      "execution_count": null,
      "outputs": [
        {
          "output_type": "stream",
          "text": [
            "/usr/local/lib/python3.6/dist-packages/tensorflow/python/framework/indexed_slices.py:434: UserWarning: Converting sparse IndexedSlices to a dense Tensor of unknown shape. This may consume a large amount of memory.\n",
            "  \"Converting sparse IndexedSlices to a dense Tensor of unknown shape. \"\n"
          ],
          "name": "stderr"
        }
      ]
    },
    {
      "cell_type": "markdown",
      "metadata": {
        "id": "E1SaVNHoxf_M",
        "colab_type": "text"
      },
      "source": [
        "**EVALUATING LSTM ON SR-MMP**"
      ]
    },
    {
      "cell_type": "code",
      "metadata": {
        "id": "SBip8UfiySfq",
        "colab_type": "code",
        "colab": {}
      },
      "source": [
        "lstm_evaluator(LSTM_400_200,\n",
        "               MMP2embed_traindata, MMPtrainclass,\n",
        "               MMP2embed_scoredata, MMPscoreclass,\n",
        "               cw=cwMMP)"
      ],
      "execution_count": null,
      "outputs": []
    },
    {
      "cell_type": "markdown",
      "metadata": {
        "id": "ncmDC1jmxg7D",
        "colab_type": "text"
      },
      "source": [
        "**EVALUATING LSTM ON NR-ER**"
      ]
    },
    {
      "cell_type": "code",
      "metadata": {
        "id": "5mZBKGRqxhy_",
        "colab_type": "code",
        "colab": {}
      },
      "source": [
        "lstm_evaluator(LSTM_400_200,\n",
        "               ER2embed_traindata, ERtrainclass,\n",
        "               ER2embed_scoredata, ERscoreclass,\n",
        "               cw=cwER)"
      ],
      "execution_count": null,
      "outputs": []
    },
    {
      "cell_type": "markdown",
      "metadata": {
        "id": "vyneIwbGxigU",
        "colab_type": "text"
      },
      "source": [
        "**EVALUATING LSTM ON NR-AhR**"
      ]
    },
    {
      "cell_type": "code",
      "metadata": {
        "id": "Qkqz86MWxjOJ",
        "colab_type": "code",
        "colab": {}
      },
      "source": [
        "lstm_evaluator(LSTM_400_200,\n",
        "               AhR2embed_traindata, AhRtrainclass,\n",
        "               AhR2embed_scoredata, AhRscoreclass,\n",
        "               cw=cwAhR)"
      ],
      "execution_count": null,
      "outputs": []
    },
    {
      "cell_type": "code",
      "metadata": {
        "id": "O2vA1cL3yklT",
        "colab_type": "code",
        "colab": {}
      },
      "source": [
        ""
      ],
      "execution_count": null,
      "outputs": []
    }
  ]
}