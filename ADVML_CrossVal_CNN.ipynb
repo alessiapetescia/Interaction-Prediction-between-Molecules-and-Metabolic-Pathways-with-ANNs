{
  "nbformat": 4,
  "nbformat_minor": 0,
  "metadata": {
    "colab": {
      "name": "ADVML_CrossVal_CNN.ipynb",
      "provenance": [],
      "collapsed_sections": []
    },
    "kernelspec": {
      "name": "python3",
      "display_name": "Python 3"
    },
    "accelerator": "GPU"
  },
  "cells": [
    {
      "cell_type": "code",
      "metadata": {
        "id": "xjmscwBXBjNE",
        "colab_type": "code",
        "colab": {}
      },
      "source": [
        "import pandas as pd\n",
        "import numpy as np\n",
        "import matplotlib.pyplot as plt\n",
        "from sklearn import metrics\n",
        "from sklearn import model_selection\n",
        "from numpy.random import seed\n",
        "seedval = 13\n",
        "seed(seedval)\n",
        "from tensorflow.random import set_seed\n",
        "set_seed(seedval)"
      ],
      "execution_count": null,
      "outputs": []
    },
    {
      "cell_type": "code",
      "metadata": {
        "id": "20UOdyFQCHH8",
        "colab_type": "code",
        "colab": {}
      },
      "source": [
        "import json\n",
        "path = '/content/drive/My Drive/SMILES/SR-ARE_wholetraining_x.txt'\n",
        "with open(path) as f:\n",
        "    moldata = json.load(f)\n",
        "path = '/content/drive/My Drive/SMILES/SR-ARE_wholetraining_y.txt'\n",
        "with open(path) as f:\n",
        "    molclass = json.load(f)"
      ],
      "execution_count": null,
      "outputs": []
    },
    {
      "cell_type": "code",
      "metadata": {
        "id": "Fth66fiJCPg0",
        "colab_type": "code",
        "colab": {}
      },
      "source": [
        "import numpy as np\n",
        "M_list = []\n",
        "for mol in moldata:\n",
        "  mol_matrix = np.reshape(mol, (400, 42))\n",
        "  M_list.append(mol_matrix)\n",
        "M_tensor = np.array(M_list)\n",
        "# we now have a tensor of dimensions (num_molecules, num_items, num_features)\n",
        "molclass = np.array(molclass)"
      ],
      "execution_count": null,
      "outputs": []
    },
    {
      "cell_type": "code",
      "metadata": {
        "id": "4jr767JtCeND",
        "colab_type": "code",
        "colab": {}
      },
      "source": [
        "# split the data\n",
        "X_train, X_test, y_train, y_test = model_selection.train_test_split(M_tensor,\n",
        "                                                                    molclass,\n",
        "                                                                    stratify=molclass,\n",
        "                                                                    shuffle=True,\n",
        "                                                                    train_size=0.8,test_size=0.2,\n",
        "                                                                    random_state=seedval)"
      ],
      "execution_count": null,
      "outputs": []
    },
    {
      "cell_type": "code",
      "metadata": {
        "id": "zDZ_LIgwCf5n",
        "colab_type": "code",
        "colab": {
          "base_uri": "https://localhost:8080/",
          "height": 459
        },
        "outputId": "e86717b3-c118-4a0b-fc2c-3ec6537d53a9"
      },
      "source": [
        "import tensorflow as tf\n",
        "from keras.models import Sequential\n",
        "from keras.layers import Dense, Dropout, Activation\n",
        "from keras.layers import LSTM, Conv1D, MaxPooling1D, AveragePooling1D, GlobalAveragePooling1D, GlobalMaxPooling1D\n",
        "from keras.layers.embeddings import Embedding\n",
        "\n",
        "\n",
        "# Model \n",
        "def basic_model():\n",
        "  modelcnn = Sequential()\n",
        "  modelcnn.add(Conv1D(filters=120, kernel_size=15, activation='relu', input_shape=(400, 42), padding='same'))\n",
        "  modelcnn.add(MaxPooling1D(3))\n",
        "  modelcnn.add(Conv1D(filters=120, kernel_size=15, activation='relu', padding='same'))\n",
        "  modelcnn.add(MaxPooling1D(3))\n",
        "  modelcnn.add(GlobalAveragePooling1D())\n",
        "  modelcnn.add(Dropout(0.5))\n",
        "  modelcnn.add(Dense(64, activation='relu'))\n",
        "  modelcnn.add(Dense(1, activation='sigmoid'))\n",
        "  modelcnn.compile(loss='binary_crossentropy', optimizer='adam', metrics=['accuracy', tf.keras.metrics.AUC()])\n",
        "  return modelcnn\n",
        "\n",
        "modelcnn = basic_model()\n",
        "\n",
        "print(modelcnn.summary())"
      ],
      "execution_count": null,
      "outputs": [
        {
          "output_type": "stream",
          "text": [
            "Using TensorFlow backend.\n"
          ],
          "name": "stderr"
        },
        {
          "output_type": "stream",
          "text": [
            "Model: \"sequential_1\"\n",
            "_________________________________________________________________\n",
            "Layer (type)                 Output Shape              Param #   \n",
            "=================================================================\n",
            "conv1d_1 (Conv1D)            (None, 400, 120)          75720     \n",
            "_________________________________________________________________\n",
            "max_pooling1d_1 (MaxPooling1 (None, 133, 120)          0         \n",
            "_________________________________________________________________\n",
            "conv1d_2 (Conv1D)            (None, 133, 120)          216120    \n",
            "_________________________________________________________________\n",
            "max_pooling1d_2 (MaxPooling1 (None, 44, 120)           0         \n",
            "_________________________________________________________________\n",
            "global_average_pooling1d_1 ( (None, 120)               0         \n",
            "_________________________________________________________________\n",
            "dropout_1 (Dropout)          (None, 120)               0         \n",
            "_________________________________________________________________\n",
            "dense_1 (Dense)              (None, 64)                7744      \n",
            "_________________________________________________________________\n",
            "dense_2 (Dense)              (None, 1)                 65        \n",
            "=================================================================\n",
            "Total params: 299,649\n",
            "Trainable params: 299,649\n",
            "Non-trainable params: 0\n",
            "_________________________________________________________________\n",
            "None\n"
          ],
          "name": "stdout"
        }
      ]
    },
    {
      "cell_type": "code",
      "metadata": {
        "id": "_N2YHd1A4w6d",
        "colab_type": "code",
        "colab": {
          "base_uri": "https://localhost:8080/",
          "height": 1000
        },
        "outputId": "ddd44d5b-ea08-41cc-8a2a-f9314bf832b6"
      },
      "source": [
        "# oversampling\n",
        "from imblearn.over_sampling import RandomOverSampler\n",
        "ros = RandomOverSampler(random_state=seedval)\n",
        "M_tores = M_tensor.reshape(-1, 16800) #flattening for resample\n",
        "X_resampled, y_resampled = ros.fit_resample(M_tores,molclass)\n",
        "X_resampled = np.array(X_resampled)\n",
        "X_resampled = X_resampled.reshape(-1,400,42) #deflattening\n",
        "\n",
        "modelcnn_ovrsmpl = basic_model()\n",
        "longhistory_ovrsmpl = modelcnn_ovrsmpl.fit(X_resampled, y_resampled,\n",
        "                    epochs=80, batch_size=256,\n",
        "                    verbose=True)"
      ],
      "execution_count": null,
      "outputs": [
        {
          "output_type": "stream",
          "text": [
            "/usr/local/lib/python3.6/dist-packages/sklearn/externals/six.py:31: FutureWarning: The module is deprecated in version 0.21 and will be removed in version 0.23 since we've dropped support for Python 2.7. Please rely on the official version of six (https://pypi.org/project/six/).\n",
            "  \"(https://pypi.org/project/six/).\", FutureWarning)\n",
            "/usr/local/lib/python3.6/dist-packages/sklearn/utils/deprecation.py:144: FutureWarning: The sklearn.neighbors.base module is  deprecated in version 0.22 and will be removed in version 0.24. The corresponding classes / functions should instead be imported from sklearn.neighbors. Anything that cannot be imported from sklearn.neighbors is now part of the private API.\n",
            "  warnings.warn(message, FutureWarning)\n",
            "/usr/local/lib/python3.6/dist-packages/sklearn/utils/deprecation.py:87: FutureWarning: Function safe_indexing is deprecated; safe_indexing is deprecated in version 0.22 and will be removed in version 0.24.\n",
            "  warnings.warn(msg, category=FutureWarning)\n"
          ],
          "name": "stderr"
        },
        {
          "output_type": "stream",
          "text": [
            "Epoch 1/80\n",
            "10348/10348 [==============================] - 8s 758us/step - loss: 0.6594 - accuracy: 0.6132 - auc_1: 0.6511\n",
            "Epoch 2/80\n",
            "10348/10348 [==============================] - 1s 129us/step - loss: 0.6120 - accuracy: 0.6796 - auc_1: 0.6833\n",
            "Epoch 3/80\n",
            "10348/10348 [==============================] - 1s 130us/step - loss: 0.5733 - accuracy: 0.7108 - auc_1: 0.7146\n",
            "Epoch 4/80\n",
            "10348/10348 [==============================] - 1s 133us/step - loss: 0.5279 - accuracy: 0.7428 - auc_1: 0.7408\n",
            "Epoch 5/80\n",
            "10348/10348 [==============================] - 1s 134us/step - loss: 0.4873 - accuracy: 0.7757 - auc_1: 0.7641\n",
            "Epoch 6/80\n",
            "10348/10348 [==============================] - 1s 134us/step - loss: 0.4248 - accuracy: 0.8176 - auc_1: 0.7871\n",
            "Epoch 7/80\n",
            "10348/10348 [==============================] - 1s 133us/step - loss: 0.3709 - accuracy: 0.8458 - auc_1: 0.8097\n",
            "Epoch 8/80\n",
            "10348/10348 [==============================] - 1s 130us/step - loss: 0.3322 - accuracy: 0.8692 - auc_1: 0.8303\n",
            "Epoch 9/80\n",
            "10348/10348 [==============================] - 1s 128us/step - loss: 0.3098 - accuracy: 0.8805 - auc_1: 0.8466\n",
            "Epoch 10/80\n",
            "10348/10348 [==============================] - 1s 127us/step - loss: 0.2546 - accuracy: 0.9078 - auc_1: 0.8615\n",
            "Epoch 11/80\n",
            "10348/10348 [==============================] - 1s 128us/step - loss: 0.2282 - accuracy: 0.9204 - auc_1: 0.8755\n",
            "Epoch 12/80\n",
            "10348/10348 [==============================] - 1s 129us/step - loss: 0.2086 - accuracy: 0.9271 - auc_1: 0.8870\n",
            "Epoch 13/80\n",
            "10348/10348 [==============================] - 1s 128us/step - loss: 0.1956 - accuracy: 0.9341 - auc_1: 0.8966\n",
            "Epoch 14/80\n",
            "10348/10348 [==============================] - 1s 129us/step - loss: 0.1693 - accuracy: 0.9440 - auc_1: 0.9057\n",
            "Epoch 15/80\n",
            "10348/10348 [==============================] - 1s 128us/step - loss: 0.1391 - accuracy: 0.9569 - auc_1: 0.9140\n",
            "Epoch 16/80\n",
            "10348/10348 [==============================] - 1s 127us/step - loss: 0.1574 - accuracy: 0.9449 - auc_1: 0.9208\n",
            "Epoch 17/80\n",
            "10348/10348 [==============================] - 1s 127us/step - loss: 0.1225 - accuracy: 0.9607 - auc_1: 0.9267\n",
            "Epoch 18/80\n",
            "10348/10348 [==============================] - 1s 127us/step - loss: 0.1519 - accuracy: 0.9481 - auc_1: 0.9322\n",
            "Epoch 19/80\n",
            "10348/10348 [==============================] - 1s 127us/step - loss: 0.1165 - accuracy: 0.9627 - auc_1: 0.9363\n",
            "Epoch 20/80\n",
            "10348/10348 [==============================] - 1s 128us/step - loss: 0.1078 - accuracy: 0.9637 - auc_1: 0.9407\n",
            "Epoch 21/80\n",
            "10348/10348 [==============================] - 1s 129us/step - loss: 0.1070 - accuracy: 0.9647 - auc_1: 0.9444\n",
            "Epoch 22/80\n",
            "10348/10348 [==============================] - 1s 127us/step - loss: 0.0710 - accuracy: 0.9806 - auc_1: 0.9482\n",
            "Epoch 23/80\n",
            "10348/10348 [==============================] - 1s 127us/step - loss: 0.0695 - accuracy: 0.9794 - auc_1: 0.9517\n",
            "Epoch 24/80\n",
            "10348/10348 [==============================] - 1s 127us/step - loss: 0.0577 - accuracy: 0.9844 - auc_1: 0.9549\n",
            "Epoch 25/80\n",
            "10348/10348 [==============================] - 1s 129us/step - loss: 0.0670 - accuracy: 0.9800 - auc_1: 0.9578\n",
            "Epoch 26/80\n",
            "10348/10348 [==============================] - 1s 126us/step - loss: 0.1003 - accuracy: 0.9628 - auc_1: 0.9599\n",
            "Epoch 27/80\n",
            "10348/10348 [==============================] - 1s 127us/step - loss: 0.0500 - accuracy: 0.9871 - auc_1: 0.9621\n",
            "Epoch 28/80\n",
            "10348/10348 [==============================] - 1s 127us/step - loss: 0.0526 - accuracy: 0.9854 - auc_1: 0.9643\n",
            "Epoch 29/80\n",
            "10348/10348 [==============================] - 1s 127us/step - loss: 0.0458 - accuracy: 0.9868 - auc_1: 0.9663\n",
            "Epoch 30/80\n",
            "10348/10348 [==============================] - 1s 127us/step - loss: 0.0444 - accuracy: 0.9867 - auc_1: 0.9681\n",
            "Epoch 31/80\n",
            "10348/10348 [==============================] - 1s 127us/step - loss: 0.0367 - accuracy: 0.9904 - auc_1: 0.9699\n",
            "Epoch 32/80\n",
            "10348/10348 [==============================] - 1s 128us/step - loss: 0.0318 - accuracy: 0.9925 - auc_1: 0.9715\n",
            "Epoch 33/80\n",
            "10348/10348 [==============================] - 1s 129us/step - loss: 0.0304 - accuracy: 0.9918 - auc_1: 0.9729\n",
            "Epoch 34/80\n",
            "10348/10348 [==============================] - 1s 127us/step - loss: 0.0283 - accuracy: 0.9933 - auc_1: 0.9743\n",
            "Epoch 35/80\n",
            "10348/10348 [==============================] - 1s 129us/step - loss: 0.2648 - accuracy: 0.8994 - auc_1: 0.9748\n",
            "Epoch 36/80\n",
            "10348/10348 [==============================] - 1s 128us/step - loss: 0.0787 - accuracy: 0.9730 - auc_1: 0.9749\n",
            "Epoch 37/80\n",
            "10348/10348 [==============================] - 1s 130us/step - loss: 0.0400 - accuracy: 0.9889 - auc_1: 0.9759\n",
            "Epoch 38/80\n",
            "10348/10348 [==============================] - 1s 132us/step - loss: 0.0391 - accuracy: 0.9886 - auc_1: 0.9770\n",
            "Epoch 39/80\n",
            "10348/10348 [==============================] - 1s 132us/step - loss: 0.0311 - accuracy: 0.9921 - auc_1: 0.9779\n",
            "Epoch 40/80\n",
            "10348/10348 [==============================] - 1s 130us/step - loss: 0.0251 - accuracy: 0.9934 - auc_1: 0.9789\n",
            "Epoch 41/80\n",
            "10348/10348 [==============================] - 1s 136us/step - loss: 0.0264 - accuracy: 0.9935 - auc_1: 0.9797\n",
            "Epoch 42/80\n",
            "10348/10348 [==============================] - 1s 131us/step - loss: 0.0205 - accuracy: 0.9944 - auc_1: 0.9806\n",
            "Epoch 43/80\n",
            "10348/10348 [==============================] - 1s 130us/step - loss: 0.0249 - accuracy: 0.9937 - auc_1: 0.9814\n",
            "Epoch 44/80\n",
            "10348/10348 [==============================] - 1s 132us/step - loss: 0.0205 - accuracy: 0.9954 - auc_1: 0.9821\n",
            "Epoch 45/80\n",
            "10348/10348 [==============================] - 1s 129us/step - loss: 0.0206 - accuracy: 0.9951 - auc_1: 0.9828\n",
            "Epoch 46/80\n",
            "10348/10348 [==============================] - 1s 127us/step - loss: 0.0242 - accuracy: 0.9948 - auc_1: 0.9835\n",
            "Epoch 47/80\n",
            "10348/10348 [==============================] - 1s 128us/step - loss: 0.0269 - accuracy: 0.9931 - auc_1: 0.9840\n",
            "Epoch 48/80\n",
            "10348/10348 [==============================] - 1s 127us/step - loss: 0.0185 - accuracy: 0.9947 - auc_1: 0.9846\n",
            "Epoch 49/80\n",
            "10348/10348 [==============================] - 1s 129us/step - loss: 0.0163 - accuracy: 0.9954 - auc_1: 0.9852\n",
            "Epoch 50/80\n",
            "10348/10348 [==============================] - 1s 128us/step - loss: 0.1456 - accuracy: 0.9499 - auc_1: 0.9854\n",
            "Epoch 51/80\n",
            "10348/10348 [==============================] - 1s 128us/step - loss: 0.0273 - accuracy: 0.9921 - auc_1: 0.9857\n",
            "Epoch 52/80\n",
            "10348/10348 [==============================] - 1s 129us/step - loss: 0.0180 - accuracy: 0.9958 - auc_1: 0.9861\n",
            "Epoch 53/80\n",
            "10348/10348 [==============================] - 1s 128us/step - loss: 0.0171 - accuracy: 0.9956 - auc_1: 0.9866\n",
            "Epoch 54/80\n",
            "10348/10348 [==============================] - 1s 128us/step - loss: 0.0147 - accuracy: 0.9964 - auc_1: 0.9870\n",
            "Epoch 55/80\n",
            "10348/10348 [==============================] - 1s 127us/step - loss: 0.0161 - accuracy: 0.9958 - auc_1: 0.9874\n",
            "Epoch 56/80\n",
            "10348/10348 [==============================] - 1s 127us/step - loss: 0.0139 - accuracy: 0.9962 - auc_1: 0.9878\n",
            "Epoch 57/80\n",
            "10348/10348 [==============================] - 1s 129us/step - loss: 0.0196 - accuracy: 0.9943 - auc_1: 0.9882\n",
            "Epoch 58/80\n",
            "10348/10348 [==============================] - 1s 127us/step - loss: 0.0141 - accuracy: 0.9966 - auc_1: 0.9886\n",
            "Epoch 59/80\n",
            "10348/10348 [==============================] - 1s 128us/step - loss: 0.0136 - accuracy: 0.9964 - auc_1: 0.9889\n",
            "Epoch 60/80\n",
            "10348/10348 [==============================] - 1s 129us/step - loss: 0.0129 - accuracy: 0.9965 - auc_1: 0.9892\n",
            "Epoch 61/80\n",
            "10348/10348 [==============================] - 1s 129us/step - loss: 0.0122 - accuracy: 0.9966 - auc_1: 0.9895\n",
            "Epoch 62/80\n",
            "10348/10348 [==============================] - 1s 129us/step - loss: 0.0110 - accuracy: 0.9971 - auc_1: 0.9898\n",
            "Epoch 63/80\n",
            "10348/10348 [==============================] - 1s 129us/step - loss: 0.0118 - accuracy: 0.9970 - auc_1: 0.9901\n",
            "Epoch 64/80\n",
            "10348/10348 [==============================] - 1s 129us/step - loss: 0.0111 - accuracy: 0.9972 - auc_1: 0.9904\n",
            "Epoch 65/80\n",
            "10348/10348 [==============================] - 1s 130us/step - loss: 0.0096 - accuracy: 0.9977 - auc_1: 0.9907\n",
            "Epoch 66/80\n",
            "10348/10348 [==============================] - 1s 127us/step - loss: 0.0103 - accuracy: 0.9966 - auc_1: 0.9909\n",
            "Epoch 67/80\n",
            "10348/10348 [==============================] - 1s 129us/step - loss: 0.0265 - accuracy: 0.9935 - auc_1: 0.9912\n",
            "Epoch 68/80\n",
            "10348/10348 [==============================] - 1s 126us/step - loss: 0.0250 - accuracy: 0.9928 - auc_1: 0.9913\n",
            "Epoch 69/80\n",
            "10348/10348 [==============================] - 1s 127us/step - loss: 0.5503 - accuracy: 0.8046 - auc_1: 0.9908\n",
            "Epoch 70/80\n",
            "10348/10348 [==============================] - 1s 129us/step - loss: 0.2051 - accuracy: 0.9368 - auc_1: 0.9904\n",
            "Epoch 71/80\n",
            "10348/10348 [==============================] - 1s 126us/step - loss: 0.1044 - accuracy: 0.9716 - auc_1: 0.9904\n",
            "Epoch 72/80\n",
            "10348/10348 [==============================] - 1s 128us/step - loss: 0.0759 - accuracy: 0.9789 - auc_1: 0.9905\n",
            "Epoch 73/80\n",
            "10348/10348 [==============================] - 1s 130us/step - loss: 0.0592 - accuracy: 0.9863 - auc_1: 0.9907\n",
            "Epoch 74/80\n",
            "10348/10348 [==============================] - 1s 129us/step - loss: 0.0487 - accuracy: 0.9878 - auc_1: 0.9908\n",
            "Epoch 75/80\n",
            "10348/10348 [==============================] - 1s 128us/step - loss: 0.0431 - accuracy: 0.9887 - auc_1: 0.9910\n",
            "Epoch 76/80\n",
            "10348/10348 [==============================] - 1s 128us/step - loss: 0.0357 - accuracy: 0.9914 - auc_1: 0.9911\n",
            "Epoch 77/80\n",
            "10348/10348 [==============================] - 1s 129us/step - loss: 0.0399 - accuracy: 0.9895 - auc_1: 0.9913\n",
            "Epoch 78/80\n",
            "10348/10348 [==============================] - 1s 128us/step - loss: 0.0312 - accuracy: 0.9918 - auc_1: 0.9914\n",
            "Epoch 79/80\n",
            "10348/10348 [==============================] - 1s 127us/step - loss: 0.0291 - accuracy: 0.9918 - auc_1: 0.9916\n",
            "Epoch 80/80\n",
            "10348/10348 [==============================] - 1s 131us/step - loss: 0.0319 - accuracy: 0.9912 - auc_1: 0.9918\n"
          ],
          "name": "stdout"
        }
      ]
    },
    {
      "cell_type": "code",
      "metadata": {
        "id": "v-Wf2gjI-2PH",
        "colab_type": "code",
        "colab": {
          "base_uri": "https://localhost:8080/",
          "height": 295
        },
        "outputId": "dfb70fe0-0ab4-4d91-e6ed-5d48db87572f"
      },
      "source": [
        "plt.plot(longhistory_ovrsmpl.history['accuracy'], \"b--\", label=\"Accuracy on training data\")\n",
        "plt.plot(longhistory_ovrsmpl.history['loss'], \"r--\", label=\"Loss on training data\")\n",
        "plt.title('Model Accuracy and Loss')\n",
        "plt.ylabel('Accuracy and Loss')\n",
        "plt.xlabel('Training Epoch')\n",
        "plt.ylim(0)\n",
        "plt.legend()\n",
        "plt.savefig('80epochsOfFirstCNN_ovrsmpl')\n",
        "plt.show()"
      ],
      "execution_count": null,
      "outputs": [
        {
          "output_type": "display_data",
          "data": {
            "image/png": "[encoded data removed]",
            "text/plain": [
              "<Figure size 432x288 with 1 Axes>"
            ]
          },
          "metadata": {
            "tags": [],
            "needs_background": "light"
          }
        }
      ]
    },
    {
      "cell_type": "code",
      "metadata": {
        "id": "LH04oUReb05i",
        "colab_type": "code",
        "colab": {}
      },
      "source": [
        "tot = len(molclass)\n",
        "pos = sum(molclass.astype(int))\n",
        "neg = tot - pos\n",
        "\n",
        "w0 = (1. / neg) * tot / 2.\n",
        "w1 = (1. / pos) * tot / 2.\n",
        "\n",
        "cw = {'0': w0,\n",
        "      '1': w1}"
      ],
      "execution_count": null,
      "outputs": []
    },
    {
      "cell_type": "code",
      "metadata": {
        "id": "00mK_Fb_DTSr",
        "colab_type": "code",
        "colab": {
          "base_uri": "https://localhost:8080/",
          "height": 1000
        },
        "outputId": "1026a03a-949f-4bf1-f6e1-1161044ae347"
      },
      "source": [
        "modelcnn_wgtclss = basic_model()\n",
        "longhistory_wgtclss = modelcnn_wgtclss.fit(X_train, y_train, validation_data=(X_test, y_test),\n",
        "                    epochs=80, batch_size=256,\n",
        "                    verbose=True,\n",
        "                    class_weight=cw)"
      ],
      "execution_count": null,
      "outputs": [
        {
          "output_type": "stream",
          "text": [
            "Train on 4911 samples, validate on 1228 samples\n",
            "Epoch 1/80\n",
            "4911/4911 [==============================] - 1s 212us/step - loss: 0.6818 - accuracy: 0.2824 - auc_2: 0.5666 - val_loss: 0.7493 - val_accuracy: 0.4243 - val_auc_2: 0.6359\n",
            "Epoch 2/80\n",
            "4911/4911 [==============================] - 1s 148us/step - loss: 0.6597 - accuracy: 0.5820 - auc_2: 0.6487 - val_loss: 0.7586 - val_accuracy: 0.4748 - val_auc_2: 0.6477\n",
            "Epoch 3/80\n",
            "4911/4911 [==============================] - 1s 152us/step - loss: 0.6385 - accuracy: 0.6608 - auc_2: 0.6572 - val_loss: 0.6900 - val_accuracy: 0.6034 - val_auc_2: 0.6638\n",
            "Epoch 4/80\n",
            "4911/4911 [==============================] - 1s 150us/step - loss: 0.6142 - accuracy: 0.6775 - auc_2: 0.6722 - val_loss: 0.6883 - val_accuracy: 0.6205 - val_auc_2: 0.6800\n",
            "Epoch 5/80\n",
            "4911/4911 [==============================] - 1s 150us/step - loss: 0.6080 - accuracy: 0.6921 - auc_2: 0.6863 - val_loss: 0.5526 - val_accuracy: 0.7476 - val_auc_2: 0.6909\n",
            "Epoch 6/80\n",
            "4911/4911 [==============================] - 1s 153us/step - loss: 0.5870 - accuracy: 0.6887 - auc_2: 0.6969 - val_loss: 0.5434 - val_accuracy: 0.7451 - val_auc_2: 0.7021\n",
            "Epoch 7/80\n",
            "4911/4911 [==============================] - 1s 152us/step - loss: 0.5685 - accuracy: 0.7347 - auc_2: 0.7087 - val_loss: 0.6452 - val_accuracy: 0.6490 - val_auc_2: 0.7120\n",
            "Epoch 8/80\n",
            "4911/4911 [==============================] - 1s 151us/step - loss: 0.5443 - accuracy: 0.7310 - auc_2: 0.7175 - val_loss: 0.6792 - val_accuracy: 0.6279 - val_auc_2: 0.7230\n",
            "Epoch 9/80\n",
            "4911/4911 [==============================] - 1s 153us/step - loss: 0.5362 - accuracy: 0.7288 - auc_2: 0.7286 - val_loss: 0.4891 - val_accuracy: 0.7801 - val_auc_2: 0.7324\n",
            "Epoch 10/80\n",
            "4911/4911 [==============================] - 1s 150us/step - loss: 0.5021 - accuracy: 0.7616 - auc_2: 0.7381 - val_loss: 0.5320 - val_accuracy: 0.7443 - val_auc_2: 0.7428\n",
            "Epoch 11/80\n",
            "4911/4911 [==============================] - 1s 150us/step - loss: 0.4992 - accuracy: 0.7634 - auc_2: 0.7482 - val_loss: 0.6856 - val_accuracy: 0.6213 - val_auc_2: 0.7516\n",
            "Epoch 12/80\n",
            "4911/4911 [==============================] - 1s 151us/step - loss: 0.4719 - accuracy: 0.7756 - auc_2: 0.7568 - val_loss: 0.7530 - val_accuracy: 0.5936 - val_auc_2: 0.7603\n",
            "Epoch 13/80\n",
            "4911/4911 [==============================] - 1s 153us/step - loss: 0.5334 - accuracy: 0.6911 - auc_2: 0.7620 - val_loss: 0.4811 - val_accuracy: 0.7695 - val_auc_2: 0.7641\n",
            "Epoch 14/80\n",
            "4911/4911 [==============================] - 1s 154us/step - loss: 0.4622 - accuracy: 0.7976 - auc_2: 0.7679 - val_loss: 0.5347 - val_accuracy: 0.7296 - val_auc_2: 0.7712\n",
            "Epoch 15/80\n",
            "4911/4911 [==============================] - 1s 152us/step - loss: 0.4132 - accuracy: 0.8053 - auc_2: 0.7759 - val_loss: 0.5630 - val_accuracy: 0.7329 - val_auc_2: 0.7795\n",
            "Epoch 16/80\n",
            "4911/4911 [==============================] - 1s 152us/step - loss: 0.4124 - accuracy: 0.8019 - auc_2: 0.7838 - val_loss: 0.4956 - val_accuracy: 0.7647 - val_auc_2: 0.7865\n",
            "Epoch 17/80\n",
            "4911/4911 [==============================] - 1s 152us/step - loss: 0.3864 - accuracy: 0.8298 - auc_2: 0.7907 - val_loss: 0.6048 - val_accuracy: 0.7085 - val_auc_2: 0.7937\n",
            "Epoch 18/80\n",
            "4911/4911 [==============================] - 1s 151us/step - loss: 0.3798 - accuracy: 0.8202 - auc_2: 0.7975 - val_loss: 0.4356 - val_accuracy: 0.8135 - val_auc_2: 0.8001\n",
            "Epoch 19/80\n",
            "4911/4911 [==============================] - 1s 152us/step - loss: 0.3390 - accuracy: 0.8552 - auc_2: 0.8039 - val_loss: 0.6157 - val_accuracy: 0.7199 - val_auc_2: 0.8070\n",
            "Epoch 20/80\n",
            "4911/4911 [==============================] - 1s 152us/step - loss: 0.3258 - accuracy: 0.8518 - auc_2: 0.8108 - val_loss: 0.4391 - val_accuracy: 0.8249 - val_auc_2: 0.8133\n",
            "Epoch 21/80\n",
            "4911/4911 [==============================] - 1s 153us/step - loss: 0.3499 - accuracy: 0.8357 - auc_2: 0.8161 - val_loss: 0.4162 - val_accuracy: 0.8379 - val_auc_2: 0.8175\n",
            "Epoch 22/80\n",
            "4911/4911 [==============================] - 1s 152us/step - loss: 0.3050 - accuracy: 0.8776 - auc_2: 0.8203 - val_loss: 0.5362 - val_accuracy: 0.7663 - val_auc_2: 0.8229\n",
            "Epoch 23/80\n",
            "4911/4911 [==============================] - 1s 151us/step - loss: 0.2700 - accuracy: 0.8854 - auc_2: 0.8263 - val_loss: 0.4784 - val_accuracy: 0.8160 - val_auc_2: 0.8287\n",
            "Epoch 24/80\n",
            "4911/4911 [==============================] - 1s 151us/step - loss: 0.2781 - accuracy: 0.8793 - auc_2: 0.8315 - val_loss: 0.4494 - val_accuracy: 0.8493 - val_auc_2: 0.8332\n",
            "Epoch 25/80\n",
            "4911/4911 [==============================] - 1s 152us/step - loss: 0.2655 - accuracy: 0.8884 - auc_2: 0.8355 - val_loss: 0.5360 - val_accuracy: 0.7793 - val_auc_2: 0.8376\n",
            "Epoch 26/80\n",
            "4911/4911 [==============================] - 1s 152us/step - loss: 0.2913 - accuracy: 0.8713 - auc_2: 0.8400 - val_loss: 0.4986 - val_accuracy: 0.7972 - val_auc_2: 0.8415\n",
            "Epoch 27/80\n",
            "4911/4911 [==============================] - 1s 153us/step - loss: 0.2379 - accuracy: 0.8980 - auc_2: 0.8441 - val_loss: 0.5677 - val_accuracy: 0.7801 - val_auc_2: 0.8460\n",
            "Epoch 28/80\n",
            "4911/4911 [==============================] - 1s 154us/step - loss: 0.2456 - accuracy: 0.9004 - auc_2: 0.8484 - val_loss: 0.6424 - val_accuracy: 0.7524 - val_auc_2: 0.8501\n",
            "Epoch 29/80\n",
            "4911/4911 [==============================] - 1s 153us/step - loss: 0.2337 - accuracy: 0.9035 - auc_2: 0.8524 - val_loss: 0.5011 - val_accuracy: 0.8119 - val_auc_2: 0.8539\n",
            "Epoch 30/80\n",
            "4911/4911 [==============================] - 1s 152us/step - loss: 0.2030 - accuracy: 0.9181 - auc_2: 0.8563 - val_loss: 0.5008 - val_accuracy: 0.8217 - val_auc_2: 0.8578\n",
            "Epoch 31/80\n",
            "4911/4911 [==============================] - 1s 151us/step - loss: 0.1718 - accuracy: 0.9379 - auc_2: 0.8602 - val_loss: 0.4894 - val_accuracy: 0.8485 - val_auc_2: 0.8618\n",
            "Epoch 32/80\n",
            "4911/4911 [==============================] - 1s 153us/step - loss: 0.1805 - accuracy: 0.9302 - auc_2: 0.8638 - val_loss: 0.6645 - val_accuracy: 0.7671 - val_auc_2: 0.8652\n",
            "Epoch 33/80\n",
            "4911/4911 [==============================] - 1s 152us/step - loss: 0.1633 - accuracy: 0.9324 - auc_2: 0.8673 - val_loss: 0.6133 - val_accuracy: 0.7801 - val_auc_2: 0.8688\n",
            "Epoch 34/80\n",
            "4911/4911 [==============================] - 1s 151us/step - loss: 0.1589 - accuracy: 0.9375 - auc_2: 0.8708 - val_loss: 0.6236 - val_accuracy: 0.7801 - val_auc_2: 0.8721\n",
            "Epoch 35/80\n",
            "4911/4911 [==============================] - 1s 155us/step - loss: 0.1455 - accuracy: 0.9432 - auc_2: 0.8741 - val_loss: 0.5689 - val_accuracy: 0.8143 - val_auc_2: 0.8753\n",
            "Epoch 36/80\n",
            "4911/4911 [==============================] - 1s 155us/step - loss: 0.1559 - accuracy: 0.9422 - auc_2: 0.8770 - val_loss: 0.5234 - val_accuracy: 0.8493 - val_auc_2: 0.8779\n",
            "Epoch 37/80\n",
            "4911/4911 [==============================] - 1s 154us/step - loss: 0.1385 - accuracy: 0.9483 - auc_2: 0.8793 - val_loss: 0.5510 - val_accuracy: 0.8428 - val_auc_2: 0.8803\n",
            "Epoch 38/80\n",
            "4911/4911 [==============================] - 1s 151us/step - loss: 0.1347 - accuracy: 0.9477 - auc_2: 0.8817 - val_loss: 0.5496 - val_accuracy: 0.8379 - val_auc_2: 0.8827\n",
            "Epoch 39/80\n",
            "4911/4911 [==============================] - 1s 152us/step - loss: 0.1269 - accuracy: 0.9568 - auc_2: 0.8842 - val_loss: 0.7180 - val_accuracy: 0.7801 - val_auc_2: 0.8852\n",
            "Epoch 40/80\n",
            "4911/4911 [==============================] - 1s 153us/step - loss: 0.1314 - accuracy: 0.9485 - auc_2: 0.8867 - val_loss: 0.5493 - val_accuracy: 0.8477 - val_auc_2: 0.8875\n",
            "Epoch 41/80\n",
            "4911/4911 [==============================] - 1s 152us/step - loss: 0.1267 - accuracy: 0.9511 - auc_2: 0.8887 - val_loss: 0.5757 - val_accuracy: 0.8331 - val_auc_2: 0.8895\n",
            "Epoch 42/80\n",
            "4911/4911 [==============================] - 1s 155us/step - loss: 0.1225 - accuracy: 0.9558 - auc_2: 0.8907 - val_loss: 0.5455 - val_accuracy: 0.8502 - val_auc_2: 0.8913\n",
            "Epoch 43/80\n",
            "4911/4911 [==============================] - 1s 151us/step - loss: 0.1029 - accuracy: 0.9672 - auc_2: 0.8926 - val_loss: 0.6435 - val_accuracy: 0.8282 - val_auc_2: 0.8934\n",
            "Epoch 44/80\n",
            "4911/4911 [==============================] - 1s 150us/step - loss: 0.0842 - accuracy: 0.9684 - auc_2: 0.8947 - val_loss: 0.6200 - val_accuracy: 0.8412 - val_auc_2: 0.8955\n",
            "Epoch 45/80\n",
            "4911/4911 [==============================] - 1s 151us/step - loss: 0.0793 - accuracy: 0.9717 - auc_2: 0.8967 - val_loss: 0.6333 - val_accuracy: 0.8428 - val_auc_2: 0.8973\n",
            "Epoch 46/80\n",
            "4911/4911 [==============================] - 1s 151us/step - loss: 0.0726 - accuracy: 0.9766 - auc_2: 0.8985 - val_loss: 0.6432 - val_accuracy: 0.8493 - val_auc_2: 0.8990\n",
            "Epoch 47/80\n",
            "4911/4911 [==============================] - 1s 149us/step - loss: 0.0776 - accuracy: 0.9739 - auc_2: 0.9000 - val_loss: 0.6478 - val_accuracy: 0.8355 - val_auc_2: 0.9007\n",
            "Epoch 48/80\n",
            "4911/4911 [==============================] - 1s 152us/step - loss: 0.0812 - accuracy: 0.9721 - auc_2: 0.9018 - val_loss: 0.6445 - val_accuracy: 0.8388 - val_auc_2: 0.9024\n",
            "Epoch 49/80\n",
            "4911/4911 [==============================] - 1s 148us/step - loss: 0.0812 - accuracy: 0.9680 - auc_2: 0.9033 - val_loss: 0.6712 - val_accuracy: 0.8502 - val_auc_2: 0.9036\n",
            "Epoch 50/80\n",
            "4911/4911 [==============================] - 1s 154us/step - loss: 0.0763 - accuracy: 0.9711 - auc_2: 0.9044 - val_loss: 0.6595 - val_accuracy: 0.8355 - val_auc_2: 0.9049\n",
            "Epoch 51/80\n",
            "4911/4911 [==============================] - 1s 151us/step - loss: 0.0607 - accuracy: 0.9792 - auc_2: 0.9059 - val_loss: 0.6766 - val_accuracy: 0.8404 - val_auc_2: 0.9065\n",
            "Epoch 52/80\n",
            "4911/4911 [==============================] - 1s 153us/step - loss: 0.0550 - accuracy: 0.9827 - auc_2: 0.9074 - val_loss: 0.6964 - val_accuracy: 0.8322 - val_auc_2: 0.9079\n",
            "Epoch 53/80\n",
            "4911/4911 [==============================] - 1s 150us/step - loss: 0.0545 - accuracy: 0.9827 - auc_2: 0.9089 - val_loss: 0.7063 - val_accuracy: 0.8388 - val_auc_2: 0.9093\n",
            "Epoch 54/80\n",
            "4911/4911 [==============================] - 1s 151us/step - loss: 0.0836 - accuracy: 0.9670 - auc_2: 0.9100 - val_loss: 0.6899 - val_accuracy: 0.8208 - val_auc_2: 0.9104\n",
            "Epoch 55/80\n",
            "4911/4911 [==============================] - 1s 149us/step - loss: 0.0931 - accuracy: 0.9650 - auc_2: 0.9112 - val_loss: 0.6358 - val_accuracy: 0.8453 - val_auc_2: 0.9115\n",
            "Epoch 56/80\n",
            "4911/4911 [==============================] - 1s 151us/step - loss: 0.0574 - accuracy: 0.9805 - auc_2: 0.9122 - val_loss: 0.6730 - val_accuracy: 0.8396 - val_auc_2: 0.9126\n",
            "Epoch 57/80\n",
            "4911/4911 [==============================] - 1s 152us/step - loss: 0.0511 - accuracy: 0.9811 - auc_2: 0.9133 - val_loss: 0.7525 - val_accuracy: 0.8436 - val_auc_2: 0.9136\n",
            "Epoch 58/80\n",
            "4911/4911 [==============================] - 1s 154us/step - loss: 0.0690 - accuracy: 0.9758 - auc_2: 0.9141 - val_loss: 0.6757 - val_accuracy: 0.8493 - val_auc_2: 0.9144\n",
            "Epoch 59/80\n",
            "4911/4911 [==============================] - 1s 153us/step - loss: 0.0668 - accuracy: 0.9745 - auc_2: 0.9151 - val_loss: 0.7860 - val_accuracy: 0.8575 - val_auc_2: 0.9152\n",
            "Epoch 60/80\n",
            "4911/4911 [==============================] - 1s 151us/step - loss: 0.1065 - accuracy: 0.9589 - auc_2: 0.9155 - val_loss: 0.6894 - val_accuracy: 0.8445 - val_auc_2: 0.9156\n",
            "Epoch 61/80\n",
            "4911/4911 [==============================] - 1s 152us/step - loss: 0.0637 - accuracy: 0.9792 - auc_2: 0.9161 - val_loss: 0.8506 - val_accuracy: 0.7923 - val_auc_2: 0.9165\n",
            "Epoch 62/80\n",
            "4911/4911 [==============================] - 1s 151us/step - loss: 0.0516 - accuracy: 0.9792 - auc_2: 0.9172 - val_loss: 0.7504 - val_accuracy: 0.8526 - val_auc_2: 0.9174\n",
            "Epoch 63/80\n",
            "4911/4911 [==============================] - 1s 152us/step - loss: 0.0572 - accuracy: 0.9790 - auc_2: 0.9179 - val_loss: 0.7553 - val_accuracy: 0.8355 - val_auc_2: 0.9183\n",
            "Epoch 64/80\n",
            "4911/4911 [==============================] - 1s 154us/step - loss: 0.0404 - accuracy: 0.9864 - auc_2: 0.9189 - val_loss: 0.7500 - val_accuracy: 0.8453 - val_auc_2: 0.9192\n",
            "Epoch 65/80\n",
            "4911/4911 [==============================] - 1s 152us/step - loss: 0.0391 - accuracy: 0.9868 - auc_2: 0.9198 - val_loss: 0.7658 - val_accuracy: 0.8485 - val_auc_2: 0.9201\n",
            "Epoch 66/80\n",
            "4911/4911 [==============================] - 1s 150us/step - loss: 0.0397 - accuracy: 0.9862 - auc_2: 0.9207 - val_loss: 0.8910 - val_accuracy: 0.8062 - val_auc_2: 0.9210\n",
            "Epoch 67/80\n",
            "4911/4911 [==============================] - 1s 152us/step - loss: 0.0472 - accuracy: 0.9827 - auc_2: 0.9216 - val_loss: 0.7713 - val_accuracy: 0.8379 - val_auc_2: 0.9219\n",
            "Epoch 68/80\n",
            "4911/4911 [==============================] - 1s 152us/step - loss: 0.0357 - accuracy: 0.9888 - auc_2: 0.9224 - val_loss: 0.7789 - val_accuracy: 0.8396 - val_auc_2: 0.9227\n",
            "Epoch 69/80\n",
            "4911/4911 [==============================] - 1s 152us/step - loss: 0.0297 - accuracy: 0.9917 - auc_2: 0.9232 - val_loss: 0.8292 - val_accuracy: 0.8371 - val_auc_2: 0.9235\n",
            "Epoch 70/80\n",
            "4911/4911 [==============================] - 1s 150us/step - loss: 0.0325 - accuracy: 0.9882 - auc_2: 0.9240 - val_loss: 0.8163 - val_accuracy: 0.8379 - val_auc_2: 0.9242\n",
            "Epoch 71/80\n",
            "4911/4911 [==============================] - 1s 153us/step - loss: 0.0286 - accuracy: 0.9906 - auc_2: 0.9247 - val_loss: 0.8187 - val_accuracy: 0.8502 - val_auc_2: 0.9248\n",
            "Epoch 72/80\n",
            "4911/4911 [==============================] - 1s 153us/step - loss: 0.0300 - accuracy: 0.9921 - auc_2: 0.9253 - val_loss: 0.8352 - val_accuracy: 0.8420 - val_auc_2: 0.9255\n",
            "Epoch 73/80\n",
            "4911/4911 [==============================] - 1s 152us/step - loss: 0.0261 - accuracy: 0.9923 - auc_2: 0.9259 - val_loss: 0.8394 - val_accuracy: 0.8428 - val_auc_2: 0.9262\n",
            "Epoch 74/80\n",
            "4911/4911 [==============================] - 1s 151us/step - loss: 0.0229 - accuracy: 0.9931 - auc_2: 0.9266 - val_loss: 0.8929 - val_accuracy: 0.8339 - val_auc_2: 0.9269\n",
            "Epoch 75/80\n",
            "4911/4911 [==============================] - 1s 150us/step - loss: 0.0221 - accuracy: 0.9927 - auc_2: 0.9273 - val_loss: 0.9030 - val_accuracy: 0.8493 - val_auc_2: 0.9274\n",
            "Epoch 76/80\n",
            "4911/4911 [==============================] - 1s 150us/step - loss: 0.0377 - accuracy: 0.9904 - auc_2: 0.9278 - val_loss: 0.9863 - val_accuracy: 0.7891 - val_auc_2: 0.9280\n",
            "Epoch 77/80\n",
            "4911/4911 [==============================] - 1s 152us/step - loss: 0.0444 - accuracy: 0.9839 - auc_2: 0.9284 - val_loss: 0.8515 - val_accuracy: 0.8265 - val_auc_2: 0.9286\n",
            "Epoch 78/80\n",
            "4911/4911 [==============================] - 1s 154us/step - loss: 0.1049 - accuracy: 0.9591 - auc_2: 0.9289 - val_loss: 1.0044 - val_accuracy: 0.7353 - val_auc_2: 0.9290\n",
            "Epoch 79/80\n",
            "4911/4911 [==============================] - 1s 150us/step - loss: 0.0686 - accuracy: 0.9739 - auc_2: 0.9294 - val_loss: 0.7352 - val_accuracy: 0.8477 - val_auc_2: 0.9294\n",
            "Epoch 80/80\n",
            "4911/4911 [==============================] - 1s 151us/step - loss: 0.0435 - accuracy: 0.9849 - auc_2: 0.9297 - val_loss: 0.8645 - val_accuracy: 0.8363 - val_auc_2: 0.9299\n"
          ],
          "name": "stdout"
        }
      ]
    },
    {
      "cell_type": "code",
      "metadata": {
        "id": "5Pwyib0mDZb7",
        "colab_type": "code",
        "colab": {
          "base_uri": "https://localhost:8080/",
          "height": 295
        },
        "outputId": "e76a97eb-396d-4f2b-9238-07f322995f91"
      },
      "source": [
        "# summarize history for accuracy and loss\n",
        "#plt.figure(figsize=(6, 4))\n",
        "plt.plot(longhistory_wgtclss.history['accuracy'], \"b--\", label=\"Accuracy on training data\")\n",
        "plt.plot(longhistory_wgtclss.history['val_accuracy'], \"b\", label=\"Accuracy on validation data\")\n",
        "plt.plot(longhistory_wgtclss.history['loss'], \"r--\", label=\"Loss on training data\")\n",
        "plt.plot(longhistory_wgtclss.history['val_loss'], \"r\", label=\"Loss on validation data\")\n",
        "plt.title('Model Accuracy and Loss')\n",
        "plt.ylabel('Accuracy and Loss')\n",
        "plt.xlabel('Training Epoch')\n",
        "plt.ylim(0)\n",
        "plt.legend()\n",
        "plt.savefig('80epochsOfFirstCNN_wgtclss')\n",
        "plt.show()"
      ],
      "execution_count": null,
      "outputs": [
        {
          "output_type": "display_data",
          "data": {
            "image/png": "[encoded data removed]",
            "text/plain": [
              "<Figure size 432x288 with 1 Axes>"
            ]
          },
          "metadata": {
            "tags": [],
            "needs_background": "light"
          }
        }
      ]
    },
    {
      "cell_type": "code",
      "metadata": {
        "id": "7z8-RzkATs4s",
        "colab_type": "code",
        "colab": {
          "base_uri": "https://localhost:8080/",
          "height": 561
        },
        "outputId": "e0536a7b-65be-45d5-ba4a-bb2e36205959"
      },
      "source": [
        "# Rebuild from scratch, given problems in api handling\n",
        "# modelcnn = basic_model() actually built before and unmodified\n",
        "\n",
        "history = modelcnn.fit(M_tensor, molclass,\n",
        "                    epochs=16, batch_size=256,\n",
        "                    verbose=True,\n",
        "                    class_weight=cw)"
      ],
      "execution_count": null,
      "outputs": [
        {
          "output_type": "stream",
          "text": [
            "Epoch 1/16\n",
            "6139/6139 [==============================] - 1s 180us/step - loss: 0.6804 - accuracy: 0.3597 - auc: 0.5960\n",
            "Epoch 2/16\n",
            "6139/6139 [==============================] - 1s 131us/step - loss: 0.6569 - accuracy: 0.5840 - auc: 0.6348\n",
            "Epoch 3/16\n",
            "6139/6139 [==============================] - 1s 135us/step - loss: 0.6269 - accuracy: 0.6846 - auc: 0.6560\n",
            "Epoch 4/16\n",
            "6139/6139 [==============================] - 1s 129us/step - loss: 0.6000 - accuracy: 0.6973 - auc: 0.6790\n",
            "Epoch 5/16\n",
            "6139/6139 [==============================] - 1s 129us/step - loss: 0.5767 - accuracy: 0.7205 - auc: 0.6968\n",
            "Epoch 6/16\n",
            "6139/6139 [==============================] - 1s 130us/step - loss: 0.5554 - accuracy: 0.7301 - auc: 0.7167\n",
            "Epoch 7/16\n",
            "6139/6139 [==============================] - 1s 128us/step - loss: 0.5247 - accuracy: 0.7500 - auc: 0.7328\n",
            "Epoch 8/16\n",
            "6139/6139 [==============================] - 1s 130us/step - loss: 0.5061 - accuracy: 0.7487 - auc: 0.7477\n",
            "Epoch 9/16\n",
            "6139/6139 [==============================] - 1s 130us/step - loss: 0.4756 - accuracy: 0.7692 - auc: 0.7617\n",
            "Epoch 10/16\n",
            "6139/6139 [==============================] - 1s 132us/step - loss: 0.4442 - accuracy: 0.7886 - auc: 0.7750\n",
            "Epoch 11/16\n",
            "6139/6139 [==============================] - 1s 132us/step - loss: 0.4166 - accuracy: 0.8102 - auc: 0.7887\n",
            "Epoch 12/16\n",
            "6139/6139 [==============================] - 1s 131us/step - loss: 0.4105 - accuracy: 0.8107 - auc: 0.7999\n",
            "Epoch 13/16\n",
            "6139/6139 [==============================] - 1s 128us/step - loss: 0.3589 - accuracy: 0.8422 - auc: 0.8108\n",
            "Epoch 14/16\n",
            "6139/6139 [==============================] - 1s 131us/step - loss: 0.3426 - accuracy: 0.8477 - auc: 0.8225\n",
            "Epoch 15/16\n",
            "6139/6139 [==============================] - 1s 129us/step - loss: 0.3348 - accuracy: 0.8485 - auc: 0.8322\n",
            "Epoch 16/16\n",
            "6139/6139 [==============================] - 1s 130us/step - loss: 0.2909 - accuracy: 0.8806 - auc: 0.8415\n"
          ],
          "name": "stdout"
        }
      ]
    },
    {
      "cell_type": "code",
      "metadata": {
        "id": "U957CcfJUEmD",
        "colab_type": "code",
        "colab": {
          "base_uri": "https://localhost:8080/",
          "height": 221
        },
        "outputId": "5b5ebfc8-03c7-41db-c316-efd5e3ef7884"
      },
      "source": [
        "# TRAIN SET FITTING STATS: MODELCNN WITH WEIGHTED CLASSES\n",
        "from sklearn import metrics\n",
        "from sklearn.metrics import classification_report\n",
        "from sklearn.metrics import roc_auc_score\n",
        "\n",
        "Y_valid_predict = modelcnn.predict(M_tensor)\n",
        "y_true = molclass.astype(int)\n",
        "y_pred = []\n",
        "for prediction in Y_valid_predict:\n",
        "    prediction = np.where(prediction>0.5, 1, 0)\n",
        "    y_pred.append(prediction)\n",
        "y_pred = np.asarray(y_pred)\n",
        "print('TRAIN SET FITTING STATS: MODELCNN WITH WEIGHTED CLASSES \\n')\n",
        "print(classification_report(y_true, y_pred))\n",
        "print('roc-auc %f' % metrics.roc_auc_score(y_true, y_pred))"
      ],
      "execution_count": null,
      "outputs": [
        {
          "output_type": "stream",
          "text": [
            "TRAIN SET FITTING STATS: MODELCNN WITH WEIGHTED CLASSES \n",
            "\n",
            "              precision    recall  f1-score   support\n",
            "\n",
            "           0       0.99      0.89      0.94      5174\n",
            "           1       0.61      0.95      0.75       965\n",
            "\n",
            "    accuracy                           0.90      6139\n",
            "   macro avg       0.80      0.92      0.84      6139\n",
            "weighted avg       0.93      0.90      0.91      6139\n",
            "\n",
            "roc-auc 0.920213\n"
          ],
          "name": "stdout"
        }
      ]
    },
    {
      "cell_type": "code",
      "metadata": {
        "id": "MA7Y2RLgULkg",
        "colab_type": "code",
        "colab": {
          "base_uri": "https://localhost:8080/",
          "height": 221
        },
        "outputId": "9caff2f7-b0e8-42d0-b1b6-6abe2d0dce2f"
      },
      "source": [
        "# TEST (SCORE) SET FITTING STATS: MODELCNN WITH WEIGHTED CLASSES\n",
        "path = '/content/drive/My Drive/SMILES/SR-ARE_score_x.txt'\n",
        "with open(path) as f:\n",
        "    testdata = json.load(f)\n",
        "\n",
        "path = path = '/content/drive/My Drive/SMILES/SR-ARE_score_y.txt'\n",
        "with open(path) as f:\n",
        "    testclass = json.load(f)\n",
        "\n",
        "test_list = []\n",
        "for mol in testdata:\n",
        "  mol_matrix = np.reshape(mol, (400, 42))\n",
        "  test_list.append(mol_matrix)\n",
        "Test_tensor = np.array(test_list)\n",
        "\n",
        "testclass = np.array(testclass)\n",
        "\n",
        "Y_test_predict = modelcnn.predict(Test_tensor)\n",
        "y_true = testclass.astype(int)\n",
        "y_pred = []\n",
        "for prediction in Y_test_predict:\n",
        "    prediction = np.where(prediction>0.5, 1, 0)\n",
        "    y_pred.append(prediction)\n",
        "y_pred = np.asarray(y_pred)\n",
        "print('TEST (SCORE) SET FITTING STATS: MODELCNN WITH WEIGHTED CLASSES \\n')\n",
        "print(classification_report(y_true, y_pred))\n",
        "print('roc-auc %f' % metrics.roc_auc_score(y_true, y_pred))"
      ],
      "execution_count": null,
      "outputs": [
        {
          "output_type": "stream",
          "text": [
            "TEST (SCORE) SET FITTING STATS: MODELCNN WITH WEIGHTED CLASSES \n",
            "\n",
            "              precision    recall  f1-score   support\n",
            "\n",
            "           0       0.91      0.81      0.86       461\n",
            "           1       0.39      0.61      0.47        92\n",
            "\n",
            "    accuracy                           0.78       553\n",
            "   macro avg       0.65      0.71      0.67       553\n",
            "weighted avg       0.82      0.78      0.79       553\n",
            "\n",
            "roc-auc 0.708903\n"
          ],
          "name": "stdout"
        }
      ]
    },
    {
      "cell_type": "code",
      "metadata": {
        "id": "X-k-RDDT_s5K",
        "colab_type": "code",
        "colab": {
          "base_uri": "https://localhost:8080/",
          "height": 221
        },
        "outputId": "046c8fce-83e6-42e9-a6eb-132f20de1fe2"
      },
      "source": [
        "# TRAIN SET FITTING STATS: MODELCNN WITH OVERSAMPLED TARGET CLASS\n",
        "modelcnn_ovrsmpl = basic_model()\n",
        "history_ovrsmpl = modelcnn_ovrsmpl.fit(X_resampled, y_resampled,\n",
        "                    epochs=16, batch_size=256,\n",
        "                    verbose=False)\n",
        "\n",
        "Y_valid_predict = modelcnn_ovrsmpl.predict(X_resampled)\n",
        "y_true = y_resampled.astype(int)\n",
        "y_pred = []\n",
        "for prediction in Y_valid_predict:\n",
        "    prediction = np.where(prediction>0.5, 1, 0)\n",
        "    y_pred.append(prediction)\n",
        "y_pred = np.asarray(y_pred)\n",
        "print('TRAIN SET FITTING STATS: MODELCNN WITH OVERSAMPLED TARGET CLASS \\n')\n",
        "print(classification_report(y_true, y_pred))\n",
        "print('roc-auc %f' % metrics.roc_auc_score(y_true, y_pred))"
      ],
      "execution_count": null,
      "outputs": [
        {
          "output_type": "stream",
          "text": [
            "TRAIN SET FITTING STATS: MODELCNN WITH OVERSAMPLED TARGET CLASS \n",
            "\n",
            "              precision    recall  f1-score   support\n",
            "\n",
            "           0       0.99      0.95      0.97      5174\n",
            "           1       0.95      0.99      0.97      5174\n",
            "\n",
            "    accuracy                           0.97     10348\n",
            "   macro avg       0.97      0.97      0.97     10348\n",
            "weighted avg       0.97      0.97      0.97     10348\n",
            "\n",
            "roc-auc 0.969946\n"
          ],
          "name": "stdout"
        }
      ]
    },
    {
      "cell_type": "code",
      "metadata": {
        "id": "01hW626qAllF",
        "colab_type": "code",
        "colab": {
          "base_uri": "https://localhost:8080/",
          "height": 221
        },
        "outputId": "75d18e86-0ef6-41c4-ae9f-0ae3e10bdd18"
      },
      "source": [
        "# TEST (SCORE) SET FITTING STATS: MODELCNN WITH OVERSAMPLED TARGET CLASS\n",
        "Y_test_predict = modelcnn_ovrsmpl.predict(Test_tensor)\n",
        "y_true = testclass.astype(int)\n",
        "y_pred = []\n",
        "for prediction in Y_test_predict:\n",
        "    prediction = np.where(prediction>0.5, 1, 0)\n",
        "    y_pred.append(prediction)\n",
        "y_pred = np.asarray(y_pred)\n",
        "print('TEST (SCORE) SET FITTING STATS: MODELCNN WITH OVERSAMPLED TARGET CLASS \\n')\n",
        "print(classification_report(y_true, y_pred))\n",
        "print('roc-auc %f' % metrics.roc_auc_score(y_true, y_pred))"
      ],
      "execution_count": null,
      "outputs": [
        {
          "output_type": "stream",
          "text": [
            "TEST (SCORE) SET FITTING STATS: MODELCNN WITH OVERSAMPLED TARGET CLASS \n",
            "\n",
            "              precision    recall  f1-score   support\n",
            "\n",
            "           0       0.90      0.83      0.86       461\n",
            "           1       0.38      0.53      0.45        92\n",
            "\n",
            "    accuracy                           0.78       553\n",
            "   macro avg       0.64      0.68      0.65       553\n",
            "weighted avg       0.81      0.78      0.79       553\n",
            "\n",
            "roc-auc 0.680621\n"
          ],
          "name": "stdout"
        }
      ]
    },
    {
      "cell_type": "markdown",
      "metadata": {
        "id": "GGutExdgGxY-",
        "colab_type": "text"
      },
      "source": [
        "Possiamo procedere con i pesi invece che con l'oversampling. Questo permette di usare la (cross)validation senza temere che il validation contenga elementi-copia, e riducendo il numero di sample da valutare."
      ]
    },
    {
      "cell_type": "code",
      "metadata": {
        "id": "u60ANrWPUnDr",
        "colab_type": "code",
        "colab": {
          "base_uri": "https://localhost:8080/",
          "height": 136
        },
        "outputId": "233d8115-f642-4ef1-df85-844254e20513"
      },
      "source": [
        "# CROSS VALIDATION FOR THIS MODEL\n",
        "from sklearn.model_selection import StratifiedKFold\n",
        "kfold = StratifiedKFold(n_splits=5, shuffle=True, random_state=seedval)\n",
        "cv_accuracy = []\n",
        "cv_rocauc = []\n",
        "for train, test in kfold.split(M_tensor, molclass):\n",
        "  # redefine Model \n",
        "  modelcnn = Sequential()\n",
        "  modelcnn.add(Conv1D(filters=120, kernel_size=15, activation='relu', input_shape=(400, 42), padding='same'))\n",
        "  modelcnn.add(MaxPooling1D(3))\n",
        "  modelcnn.add(Conv1D(filters=120, kernel_size=15, activation='relu', padding='same'))\n",
        "  modelcnn.add(MaxPooling1D(3))\n",
        "  modelcnn.add(GlobalAveragePooling1D())\n",
        "  modelcnn.add(Dropout(0.5))\n",
        "  modelcnn.add(Dense(64, activation='relu'))\n",
        "  modelcnn.add(Dense(1, activation='sigmoid'))\n",
        "  modelcnn.compile(loss='binary_crossentropy', optimizer='adam', metrics=['accuracy', tf.keras.metrics.AUC()]) \n",
        "  # Fit the model \n",
        "  modelcnn.fit(M_tensor[train], molclass[train], epochs=26, batch_size=256, verbose=False, class_weight=cw) \n",
        "  # evaluate the model \n",
        "  scores = modelcnn.evaluate(M_tensor[test], molclass[test], verbose=False) \n",
        "  acc, auc = scores[1], scores[2] \n",
        "  cv_accuracy.append(acc) \n",
        "  cv_rocauc.append(auc)\n",
        "  print('One fold made')\n",
        "  \n",
        "modelcnnmeanacc = np.mean(cv_accuracy)\n",
        "modelcnnmeanrocaud = np.mean(cv_rocauc)\n",
        "modelcnnstdacc = np.std(cv_accuracy)\n",
        "modelcnnstdrocaud = np.std(cv_rocauc)\n",
        "print(\"Accuracy CV estimate %.2f +/- %.2f\" % (modelcnnmeanacc, modelcnnstdacc))\n",
        "print(\"AUC CV estimate %.2f +/- %.2f\" % (modelcnnmeanrocaud, modelcnnstdrocaud))\n"
      ],
      "execution_count": null,
      "outputs": [
        {
          "output_type": "stream",
          "text": [
            "One fold made\n",
            "One fold made\n",
            "One fold made\n",
            "One fold made\n",
            "One fold made\n",
            "Accuracy CV estimate 0.81 +/- 0.03\n",
            "AUC CV estimate 0.87 +/- 0.01\n"
          ],
          "name": "stdout"
        }
      ]
    },
    {
      "cell_type": "code",
      "metadata": {
        "id": "C551p_NRGKUa",
        "colab_type": "code",
        "colab": {
          "base_uri": "https://localhost:8080/",
          "height": 136
        },
        "outputId": "df167fef-97c4-4094-c99e-ad252cc11947"
      },
      "source": [
        "# CROSS V DEEPER\n",
        "cv_accuracy = []\n",
        "cv_rocauc = []\n",
        "\n",
        "def deep_model():\n",
        "  modeldeepcnn = Sequential() \n",
        "  modeldeepcnn.add(Conv1D(filters=120, kernel_size=15, activation='relu', input_shape=(400, 42), padding='same')) \n",
        "  modeldeepcnn.add(MaxPooling1D(3)) \n",
        "  modeldeepcnn.add(Conv1D(filters=120, kernel_size=15, activation='relu', padding='same')) \n",
        "  modeldeepcnn.add(MaxPooling1D(3)) \n",
        "  modeldeepcnn.add(Conv1D(filters=120, kernel_size=15, activation='relu', padding='same')) \n",
        "  modeldeepcnn.add(GlobalAveragePooling1D()) \n",
        "  modeldeepcnn.add(Dropout(0.5)) \n",
        "  modeldeepcnn.add(Dense(64, activation='relu')) \n",
        "  modeldeepcnn.add(Dense(1, activation='sigmoid')) \n",
        "  modeldeepcnn.compile(loss='binary_crossentropy', optimizer='adam', metrics=['accuracy', tf.keras.metrics.AUC()]) \n",
        "  return modeldeepcnn\n",
        "\n",
        "for train, test in kfold.split(M_tensor, molclass):\n",
        "  # redefine Model \n",
        "  modeldeepcnn = deep_model()\n",
        "  # Fit the model \n",
        "  modeldeepcnn.fit(M_tensor[train], molclass[train], epochs=26, batch_size=256, verbose=False, class_weight=cw) \n",
        "  # evaluate the model \n",
        "  scores = modeldeepcnn.evaluate(M_tensor[test], molclass[test], verbose=False) \n",
        "  acc, auc = scores[1], scores[2] \n",
        "  cv_accuracy.append(acc) \n",
        "  cv_rocauc.append(auc)\n",
        "  print('One fold made')\n",
        "  \n",
        "modeldeepcnnmeanacc = np.mean(cv_accuracy)\n",
        "modeldeepcnnmeanrocaud = np.mean(cv_rocauc)\n",
        "modeldeepcnnstdacc = np.std(cv_accuracy)\n",
        "modeldeepcnnstdrocaud = np.std(cv_rocauc)\n",
        "print(\"Accuracy CV estimate %.2f +/- %.2f\" % (modeldeepcnnmeanacc, modeldeepcnnstdacc))\n",
        "print(\"AUC CV estimate %.2f +/- %.2f\" % (modeldeepcnnmeanrocaud, modeldeepcnnstdrocaud))"
      ],
      "execution_count": null,
      "outputs": [
        {
          "output_type": "stream",
          "text": [
            "One fold made\n",
            "One fold made\n",
            "One fold made\n",
            "One fold made\n",
            "One fold made\n",
            "Accuracy CV estimate 0.84 +/- 0.02\n",
            "AUC CV estimate 0.93 +/- 0.01\n"
          ],
          "name": "stdout"
        }
      ]
    },
    {
      "cell_type": "code",
      "metadata": {
        "id": "9TQnstY4KdEZ",
        "colab_type": "code",
        "colab": {
          "base_uri": "https://localhost:8080/",
          "height": 136
        },
        "outputId": "d1d1530c-27d8-48eb-c0ba-e96c25ca44aa"
      },
      "source": [
        "# CROSS MANY FILTERS BIG KERNEL\n",
        "cv_accuracy = []\n",
        "cv_rocauc = []\n",
        "\n",
        "def wide_model_bigk():\n",
        "  modelmanywidecnn = Sequential() \n",
        "  modelmanywidecnn.add(Conv1D(filters=300, kernel_size=30, activation='relu', input_shape=(400, 42), padding='same')) \n",
        "  modelmanywidecnn.add(MaxPooling1D(3)) \n",
        "  modelmanywidecnn.add(Conv1D(filters=300, kernel_size=30, activation='relu', padding='same')) \n",
        "  modelmanywidecnn.add(GlobalAveragePooling1D()) \n",
        "  modelmanywidecnn.add(Dropout(0.5)) \n",
        "  modelmanywidecnn.add(Dense(64, activation='relu')) \n",
        "  modelmanywidecnn.add(Dense(1, activation='sigmoid')) \n",
        "  modelmanywidecnn.compile(loss='binary_crossentropy', optimizer='adam', metrics=['accuracy', tf.keras.metrics.AUC()])\n",
        "  return modelmanywidecnn\n",
        "\n",
        "for train, test in kfold.split(M_tensor, molclass):\n",
        "  # redefine Model \n",
        "  modelmanywidecnn = wide_model_bigk() \n",
        "  # Fit the model \n",
        "  modelmanywidecnn.fit(M_tensor[train], molclass[train], epochs=26, batch_size=256, verbose=False, class_weight=cw) \n",
        "  # evaluate the model \n",
        "  scores = modelmanywidecnn.evaluate(M_tensor[test], molclass[test], verbose=False) \n",
        "  acc, auc = scores[1], scores[2] \n",
        "  cv_accuracy.append(acc) \n",
        "  cv_rocauc.append(auc)\n",
        "  print('One fold made')\n",
        "  \n",
        "modelmanywidecnnmeanacc = np.mean(cv_accuracy)\n",
        "modelmanywidecnnmeanrocaud = np.mean(cv_rocauc)\n",
        "modelmanywidecnnstdacc = np.std(cv_accuracy)\n",
        "modelmanywidecnnstdrocaud = np.std(cv_rocauc)\n",
        "print(\"Accuracy CV estimate %.2f +/- %.2f\" % (modelmanywidecnnmeanacc, modelmanywidecnnstdacc))\n",
        "print(\"AUC CV estimate %.2f +/- %.2f\" % (modelmanywidecnnmeanrocaud, modelmanywidecnnstdrocaud))"
      ],
      "execution_count": null,
      "outputs": [
        {
          "output_type": "stream",
          "text": [
            "One fold made\n",
            "One fold made\n",
            "One fold made\n",
            "One fold made\n",
            "One fold made\n",
            "Accuracy CV estimate 0.84 +/- 0.02\n",
            "AUC CV estimate 0.95 +/- 0.00\n"
          ],
          "name": "stdout"
        }
      ]
    },
    {
      "cell_type": "code",
      "metadata": {
        "id": "LD9j6VtdM0gk",
        "colab_type": "code",
        "colab": {
          "base_uri": "https://localhost:8080/",
          "height": 136
        },
        "outputId": "f2c259c4-9546-455f-da8a-c93c2a396a1c"
      },
      "source": [
        "# CROSS MANY FILTERS SMALL KERNEL\n",
        "cv_accuracy = []\n",
        "cv_rocauc = []\n",
        "\n",
        "def wide_model_smallk():\n",
        "  modelmanynarcnn = Sequential() \n",
        "  modelmanynarcnn.add(Conv1D(filters=300, kernel_size=8, activation='relu', input_shape=(400, 42), padding='same')) \n",
        "  modelmanynarcnn.add(MaxPooling1D(3)) \n",
        "  modelmanynarcnn.add(Conv1D(filters=300, kernel_size=8, activation='relu', padding='same')) \n",
        "  modelmanynarcnn.add(GlobalAveragePooling1D()) \n",
        "  modelmanynarcnn.add(Dropout(0.5)) \n",
        "  modelmanynarcnn.add(Dense(64, activation='relu')) \n",
        "  #modelcnn.add(Dropout(0.5)) \n",
        "  modelmanynarcnn.add(Dense(1, activation='sigmoid')) \n",
        "  modelmanynarcnn.compile(loss='binary_crossentropy', optimizer='adam', metrics=['accuracy', tf.keras.metrics.AUC()])\n",
        "  return modelmanynarcnn\n",
        "\n",
        "for train, test in kfold.split(M_tensor, molclass):\n",
        "  # redefine Model \n",
        "  modelmanynarcnn = wide_model_smallk()\n",
        "  # Fit the model \n",
        "  modelmanynarcnn.fit(M_tensor[train], molclass[train], epochs=26, batch_size=256, verbose=False, class_weight=cw) \n",
        "  # evaluate the model \n",
        "  scores = modelmanynarcnn.evaluate(M_tensor[test], molclass[test], verbose=False) \n",
        "  acc, auc = scores[1], scores[2] \n",
        "  cv_accuracy.append(acc) \n",
        "  cv_rocauc.append(auc)\n",
        "  print('One fold made')\n",
        "  \n",
        "modelmanynarcnnmeanacc = np.mean(cv_accuracy)\n",
        "modelmanynarcnnmeanrocaud = np.mean(cv_rocauc)\n",
        "modelmanynarcnnstdacc = np.std(cv_accuracy)\n",
        "modelmanynarcnnstdrocaud = np.std(cv_rocauc)\n",
        "print(\"Accuracy CV estimate %.2f +/- %.2f\" % (modelmanynarcnnmeanacc, modelmanynarcnnstdacc))\n",
        "print(\"AUC CV estimate %.2f +/- %.2f\" % (modelmanynarcnnmeanrocaud, modelmanynarcnnstdrocaud))"
      ],
      "execution_count": null,
      "outputs": [
        {
          "output_type": "stream",
          "text": [
            "One fold made\n",
            "One fold made\n",
            "One fold made\n",
            "One fold made\n",
            "One fold made\n",
            "Accuracy CV estimate 0.78 +/- 0.05\n",
            "AUC CV estimate 0.85 +/- 0.01\n"
          ],
          "name": "stdout"
        }
      ]
    },
    {
      "cell_type": "code",
      "metadata": {
        "id": "rr5t77OURZW3",
        "colab_type": "code",
        "colab": {
          "base_uri": "https://localhost:8080/",
          "height": 1000
        },
        "outputId": "80977621-199a-4017-a12f-350f9fc34427"
      },
      "source": [
        "# DEEPER ON SCORE\n",
        "# DEEPCNN ON WHOLETRAIN, FIRST WITH A VALID SPLIT TO CHECK FOR OVERFITTING\n",
        "# THEN RETRAINED ON WHOLE DATA TO CHECK ON THE SCORE DATASET\n",
        "modeldeepcnn = deep_model() \n",
        "# Fit the model\n",
        "longhistory_deepcnn = modeldeepcnn.fit(M_tensor, molclass,\n",
        "                    epochs=40, batch_size=256,\n",
        "                    verbose=True,\n",
        "                    validation_split=0.2,\n",
        "                    class_weight=cw)"
      ],
      "execution_count": null,
      "outputs": [
        {
          "output_type": "stream",
          "text": [
            "Train on 4911 samples, validate on 1228 samples\n",
            "Epoch 1/40\n",
            "4911/4911 [==============================] - 1s 249us/step - loss: 0.6488 - accuracy: 0.6241 - auc_24: 0.5763 - val_loss: 0.7544 - val_accuracy: 0.4976 - val_auc_24: 0.6357\n",
            "Epoch 2/40\n",
            "4911/4911 [==============================] - 1s 190us/step - loss: 0.6244 - accuracy: 0.6736 - auc_24: 0.6535 - val_loss: 0.7715 - val_accuracy: 0.6621 - val_auc_24: 0.6562\n",
            "Epoch 3/40\n",
            "4911/4911 [==============================] - 1s 192us/step - loss: 0.5990 - accuracy: 0.6695 - auc_24: 0.6676 - val_loss: 0.8090 - val_accuracy: 0.7533 - val_auc_24: 0.6687\n",
            "Epoch 4/40\n",
            "4911/4911 [==============================] - 1s 190us/step - loss: 0.5825 - accuracy: 0.7086 - auc_24: 0.6736 - val_loss: 0.7757 - val_accuracy: 0.7125 - val_auc_24: 0.6801\n",
            "Epoch 5/40\n",
            "4911/4911 [==============================] - 1s 187us/step - loss: 0.5633 - accuracy: 0.6913 - auc_24: 0.6874 - val_loss: 0.7329 - val_accuracy: 0.6425 - val_auc_24: 0.6946\n",
            "Epoch 6/40\n",
            "4911/4911 [==============================] - 1s 186us/step - loss: 0.5115 - accuracy: 0.7575 - auc_24: 0.7056 - val_loss: 0.6962 - val_accuracy: 0.6140 - val_auc_24: 0.7138\n",
            "Epoch 7/40\n",
            "4911/4911 [==============================] - 1s 187us/step - loss: 0.4812 - accuracy: 0.7628 - auc_24: 0.7248 - val_loss: 0.6908 - val_accuracy: 0.5977 - val_auc_24: 0.7313\n",
            "Epoch 8/40\n",
            "4911/4911 [==============================] - 1s 188us/step - loss: 0.4561 - accuracy: 0.7860 - auc_24: 0.7412 - val_loss: 0.6909 - val_accuracy: 0.5187 - val_auc_24: 0.7466\n",
            "Epoch 9/40\n",
            "4911/4911 [==============================] - 1s 189us/step - loss: 0.4906 - accuracy: 0.7273 - auc_24: 0.7507 - val_loss: 0.7553 - val_accuracy: 0.6816 - val_auc_24: 0.7539\n",
            "Epoch 10/40\n",
            "4911/4911 [==============================] - 1s 190us/step - loss: 0.4236 - accuracy: 0.7840 - auc_24: 0.7599 - val_loss: 0.7275 - val_accuracy: 0.5725 - val_auc_24: 0.7646\n",
            "Epoch 11/40\n",
            "4911/4911 [==============================] - 1s 193us/step - loss: 0.3835 - accuracy: 0.8165 - auc_24: 0.7718 - val_loss: 0.7257 - val_accuracy: 0.6156 - val_auc_24: 0.7762\n",
            "Epoch 12/40\n",
            "4911/4911 [==============================] - 1s 190us/step - loss: 0.3424 - accuracy: 0.8416 - auc_24: 0.7833 - val_loss: 0.7571 - val_accuracy: 0.6107 - val_auc_24: 0.7880\n",
            "Epoch 13/40\n",
            "4911/4911 [==============================] - 1s 191us/step - loss: 0.2994 - accuracy: 0.8652 - auc_24: 0.7948 - val_loss: 0.9746 - val_accuracy: 0.4715 - val_auc_24: 0.7985\n",
            "Epoch 14/40\n",
            "4911/4911 [==============================] - 1s 189us/step - loss: 0.5292 - accuracy: 0.7007 - auc_24: 0.7978 - val_loss: 0.6822 - val_accuracy: 0.5228 - val_auc_24: 0.7982\n",
            "Epoch 15/40\n",
            "4911/4911 [==============================] - 1s 190us/step - loss: 0.3707 - accuracy: 0.8302 - auc_24: 0.8014 - val_loss: 0.7939 - val_accuracy: 0.5912 - val_auc_24: 0.8040\n",
            "Epoch 16/40\n",
            "4911/4911 [==============================] - 1s 191us/step - loss: 0.2758 - accuracy: 0.8636 - auc_24: 0.8088 - val_loss: 1.3147 - val_accuracy: 0.7386 - val_auc_24: 0.8116\n",
            "Epoch 17/40\n",
            "4911/4911 [==============================] - 1s 191us/step - loss: 0.2321 - accuracy: 0.8994 - auc_24: 0.8158 - val_loss: 1.0659 - val_accuracy: 0.7068 - val_auc_24: 0.8191\n",
            "Epoch 18/40\n",
            "4911/4911 [==============================] - 1s 189us/step - loss: 0.1996 - accuracy: 0.9161 - auc_24: 0.8236 - val_loss: 1.1033 - val_accuracy: 0.6686 - val_auc_24: 0.8270\n",
            "Epoch 19/40\n",
            "4911/4911 [==============================] - 1s 189us/step - loss: 0.1715 - accuracy: 0.9322 - auc_24: 0.8315 - val_loss: 2.0252 - val_accuracy: 0.7915 - val_auc_24: 0.8332\n",
            "Epoch 20/40\n",
            "4911/4911 [==============================] - 1s 189us/step - loss: 0.1743 - accuracy: 0.9265 - auc_24: 0.8357 - val_loss: 1.6391 - val_accuracy: 0.7565 - val_auc_24: 0.8378\n",
            "Epoch 21/40\n",
            "4911/4911 [==============================] - 1s 188us/step - loss: 0.1781 - accuracy: 0.9210 - auc_24: 0.8403 - val_loss: 1.8049 - val_accuracy: 0.7761 - val_auc_24: 0.8418\n",
            "Epoch 22/40\n",
            "4911/4911 [==============================] - 1s 186us/step - loss: 0.1439 - accuracy: 0.9452 - auc_24: 0.8446 - val_loss: 1.1512 - val_accuracy: 0.6572 - val_auc_24: 0.8471\n",
            "Epoch 23/40\n",
            "4911/4911 [==============================] - 1s 187us/step - loss: 0.1511 - accuracy: 0.9355 - auc_24: 0.8504 - val_loss: 1.4531 - val_accuracy: 0.7394 - val_auc_24: 0.8521\n",
            "Epoch 24/40\n",
            "4911/4911 [==============================] - 1s 187us/step - loss: 0.1182 - accuracy: 0.9538 - auc_24: 0.8548 - val_loss: 1.5143 - val_accuracy: 0.7215 - val_auc_24: 0.8567\n",
            "Epoch 25/40\n",
            "4911/4911 [==============================] - 1s 193us/step - loss: 0.0823 - accuracy: 0.9713 - auc_24: 0.8597 - val_loss: 1.6676 - val_accuracy: 0.7182 - val_auc_24: 0.8617\n",
            "Epoch 26/40\n",
            "4911/4911 [==============================] - 1s 193us/step - loss: 0.0689 - accuracy: 0.9756 - auc_24: 0.8645 - val_loss: 2.3009 - val_accuracy: 0.7606 - val_auc_24: 0.8658\n",
            "Epoch 27/40\n",
            "4911/4911 [==============================] - 1s 188us/step - loss: 0.0852 - accuracy: 0.9707 - auc_24: 0.8677 - val_loss: 2.0543 - val_accuracy: 0.7533 - val_auc_24: 0.8688\n",
            "Epoch 28/40\n",
            "4911/4911 [==============================] - 1s 187us/step - loss: 0.0567 - accuracy: 0.9805 - auc_24: 0.8710 - val_loss: 1.7554 - val_accuracy: 0.7085 - val_auc_24: 0.8726\n",
            "Epoch 29/40\n",
            "4911/4911 [==============================] - 1s 187us/step - loss: 0.0776 - accuracy: 0.9709 - auc_24: 0.8747 - val_loss: 1.4184 - val_accuracy: 0.6694 - val_auc_24: 0.8761\n",
            "Epoch 30/40\n",
            "4911/4911 [==============================] - 1s 188us/step - loss: 0.0528 - accuracy: 0.9802 - auc_24: 0.8783 - val_loss: 2.1306 - val_accuracy: 0.7516 - val_auc_24: 0.8793\n",
            "Epoch 31/40\n",
            "4911/4911 [==============================] - 1s 187us/step - loss: 0.0359 - accuracy: 0.9876 - auc_24: 0.8812 - val_loss: 2.3536 - val_accuracy: 0.7362 - val_auc_24: 0.8823\n",
            "Epoch 32/40\n",
            "4911/4911 [==============================] - 1s 191us/step - loss: 0.0460 - accuracy: 0.9839 - auc_24: 0.8840 - val_loss: 2.1052 - val_accuracy: 0.7305 - val_auc_24: 0.8849\n",
            "Epoch 33/40\n",
            "4911/4911 [==============================] - 1s 190us/step - loss: 0.0439 - accuracy: 0.9809 - auc_24: 0.8866 - val_loss: 3.4387 - val_accuracy: 0.7850 - val_auc_24: 0.8867\n",
            "Epoch 34/40\n",
            "4911/4911 [==============================] - 1s 194us/step - loss: 0.0685 - accuracy: 0.9695 - auc_24: 0.8876 - val_loss: 3.2170 - val_accuracy: 0.7777 - val_auc_24: 0.8876\n",
            "Epoch 35/40\n",
            "4911/4911 [==============================] - 1s 188us/step - loss: 0.0775 - accuracy: 0.9743 - auc_24: 0.8884 - val_loss: 1.7441 - val_accuracy: 0.7231 - val_auc_24: 0.8891\n",
            "Epoch 36/40\n",
            "4911/4911 [==============================] - 1s 188us/step - loss: 0.0418 - accuracy: 0.9853 - auc_24: 0.8906 - val_loss: 1.9181 - val_accuracy: 0.7125 - val_auc_24: 0.8914\n",
            "Epoch 37/40\n",
            "4911/4911 [==============================] - 1s 191us/step - loss: 0.0285 - accuracy: 0.9906 - auc_24: 0.8929 - val_loss: 2.5154 - val_accuracy: 0.7402 - val_auc_24: 0.8935\n",
            "Epoch 38/40\n",
            "4911/4911 [==============================] - 1s 188us/step - loss: 0.0289 - accuracy: 0.9886 - auc_24: 0.8946 - val_loss: 2.2516 - val_accuracy: 0.7296 - val_auc_24: 0.8952\n",
            "Epoch 39/40\n",
            "4911/4911 [==============================] - 1s 187us/step - loss: 0.0261 - accuracy: 0.9927 - auc_24: 0.8964 - val_loss: 2.7366 - val_accuracy: 0.7476 - val_auc_24: 0.8968\n",
            "Epoch 40/40\n",
            "4911/4911 [==============================] - 1s 188us/step - loss: 0.0170 - accuracy: 0.9941 - auc_24: 0.8978 - val_loss: 3.0720 - val_accuracy: 0.7524 - val_auc_24: 0.8982\n"
          ],
          "name": "stdout"
        }
      ]
    },
    {
      "cell_type": "code",
      "metadata": {
        "id": "DIo0RcMIx7gw",
        "colab_type": "code",
        "colab": {
          "base_uri": "https://localhost:8080/",
          "height": 295
        },
        "outputId": "7ac3f8d2-3a3c-41f0-a542-0affc681602c"
      },
      "source": [
        "plt.plot(longhistory_deepcnn.history['accuracy'], \"b--\", label=\"Accuracy on training data\")\n",
        "plt.plot(longhistory_deepcnn.history['val_accuracy'], \"b\", label=\"Accuracy on validation data\")\n",
        "plt.plot(longhistory_deepcnn.history['loss'], \"r--\", label=\"Loss on training data\")\n",
        "plt.plot(longhistory_deepcnn.history['val_loss'], \"r\", label=\"Loss on validation data\")\n",
        "plt.title('Model Accuracy and Loss')\n",
        "plt.ylabel('Accuracy and Loss')\n",
        "plt.xlabel('Training Epoch')\n",
        "plt.ylim(0)\n",
        "plt.legend()\n",
        "plt.savefig('40epochsOfdeepCNN')\n",
        "plt.show()"
      ],
      "execution_count": null,
      "outputs": [
        {
          "output_type": "display_data",
          "data": {
            "image/png": "[encoded data removed]",
            "text/plain": [
              "<Figure size 432x288 with 1 Axes>"
            ]
          },
          "metadata": {
            "tags": [],
            "needs_background": "light"
          }
        }
      ]
    },
    {
      "cell_type": "code",
      "metadata": {
        "id": "tlgaCued0__7",
        "colab_type": "code",
        "colab": {
          "base_uri": "https://localhost:8080/",
          "height": 289
        },
        "outputId": "749d3e28-d1b4-4a01-9eea-c0d31381be9b"
      },
      "source": [
        "# TRAIN ON WHOLE AND RATE ON SCORE\n",
        "# MAKE STATS FOR 10 TRIALS, save pr re f1 score avgacc rocauc\n",
        "\n",
        "pr_hat=[]\n",
        "re_hat=[]\n",
        "f1_hat=[]\n",
        "avgacc_hat=[]\n",
        "rocauc_hat=[]\n",
        "for i in range(10):\n",
        "  modeldeepcnn = deep_model() \n",
        "  # Fit the model\n",
        "  history_deepcnn = modeldeepcnn.fit(M_tensor, molclass,\n",
        "                      epochs=15, batch_size=256,\n",
        "                      verbose=False,\n",
        "                      class_weight=cw)\n",
        "\n",
        "  Y_test_predict = modeldeepcnn.predict(Test_tensor)\n",
        "  y_true = testclass.astype(int)\n",
        "  y_pred = []\n",
        "  for prediction in Y_test_predict:\n",
        "      prediction = np.where(prediction>0.5, 1, 0)\n",
        "      y_pred.append(prediction)\n",
        "  y_pred = np.asarray(y_pred)\n",
        "  rep=classification_report(y_true, y_pred, output_dict=True)\n",
        "  pr, re, f1, avgacc, rocauc = rep['1']['precision'],rep['1']['recall'],rep['1']['f1-score'],rep['accuracy'], metrics.roc_auc_score(y_true, y_pred)\n",
        "  pr_hat.append(pr)\n",
        "  re_hat.append(re)\n",
        "  f1_hat.append(f1)\n",
        "  avgacc_hat.append(avgacc)\n",
        "  rocauc_hat.append(rocauc)\n",
        "  print('One run complete')\n",
        "\n",
        "pr_sd=np.std(pr_hat)\n",
        "re_sd=np.std(re_hat)\n",
        "f1_sd=np.std(f1_hat)\n",
        "avgacc_sd=np.std(avgacc_hat)\n",
        "rocauc_sd=np.std(rocauc_hat)\n",
        "\n",
        "pr_hat=np.mean(pr_hat)\n",
        "re_hat=np.mean(re_hat)\n",
        "f1_hat=np.mean(f1_hat)\n",
        "avgacc_hat=np.mean(avgacc_hat)\n",
        "rocauc_hat=np.mean(rocauc_hat)\n",
        "\n",
        "print('TEST (SCORE) STATISTICS FOR DEEP CNN MODEL')\n",
        "print('precision: %.2f +/- %.2f' % (pr_hat, pr_sd))\n",
        "print('recall: %.2f +/- %.2f' % (re_hat, re_sd))\n",
        "print('f1-score: %.2f +/- %.2f' % (f1_hat, f1_sd))\n",
        "print('accuracy: %.2f +/- %.2f' % (avgacc_hat, avgacc_sd))\n",
        "print('roc-auc: %.2f +/- %.2f' % (rocauc_hat, rocauc_sd))\n"
      ],
      "execution_count": null,
      "outputs": [
        {
          "output_type": "stream",
          "text": [
            "One run complete\n",
            "One run complete\n",
            "One run complete\n",
            "One run complete\n",
            "One run complete\n",
            "One run complete\n",
            "One run complete\n",
            "One run complete\n",
            "One run complete\n",
            "One run complete\n",
            "TEST (SCORE) STATISTICS FOR DEEP CNN MODEL\n",
            "precision: 0.40 +/- 0.04\n",
            "recall: 0.54 +/- 0.09\n",
            "f1-score: 0.46 +/- 0.03\n",
            "accuracy: 0.79 +/- 0.03\n",
            "roc-auc: 0.69 +/- 0.03\n"
          ],
          "name": "stdout"
        }
      ]
    },
    {
      "cell_type": "code",
      "metadata": {
        "id": "6Y-D7AM_R_t6",
        "colab_type": "code",
        "colab": {
          "base_uri": "https://localhost:8080/",
          "height": 1000
        },
        "outputId": "760d96b7-975f-40b7-c3d2-40ac2b0e54fe"
      },
      "source": [
        "# WIDER ON SCORE\n",
        "# WIDECNN ON WHOLETRAIN, FIRST WITH A VALID SPLIT TO CHECK FOR OVERFITTING\n",
        "# THEN RETRAINED ON WHOLE DATA TO CHECK ON THE SCORE DATASET\n",
        "modelmanywidecnn = wide_model_bigk() \n",
        "# Fit the model\n",
        "longhistory_widecnn = modelmanywidecnn.fit(M_tensor, molclass,\n",
        "                    epochs=40, batch_size=256,\n",
        "                    verbose=True,\n",
        "                    validation_split=0.2,\n",
        "                    class_weight=cw)"
      ],
      "execution_count": null,
      "outputs": [
        {
          "output_type": "stream",
          "text": [
            "Train on 4911 samples, validate on 1228 samples\n",
            "Epoch 1/40\n",
            "4911/4911 [==============================] - 3s 522us/step - loss: 0.6630 - accuracy: 0.3667 - auc_36: 0.5783 - val_loss: 0.7646 - val_accuracy: 0.3941 - val_auc_36: 0.6028\n",
            "Epoch 2/40\n",
            "4911/4911 [==============================] - 2s 447us/step - loss: 0.6415 - accuracy: 0.5638 - auc_36: 0.6323 - val_loss: 0.7991 - val_accuracy: 0.7508 - val_auc_36: 0.6277\n",
            "Epoch 3/40\n",
            "4911/4911 [==============================] - 2s 448us/step - loss: 0.6113 - accuracy: 0.7218 - auc_36: 0.6312 - val_loss: 0.7349 - val_accuracy: 0.6205 - val_auc_36: 0.6458\n",
            "Epoch 4/40\n",
            "4911/4911 [==============================] - 2s 450us/step - loss: 0.5759 - accuracy: 0.7296 - auc_36: 0.6613 - val_loss: 0.7444 - val_accuracy: 0.6857 - val_auc_36: 0.6699\n",
            "Epoch 5/40\n",
            "4911/4911 [==============================] - 2s 447us/step - loss: 0.5453 - accuracy: 0.7390 - auc_36: 0.6818 - val_loss: 0.7915 - val_accuracy: 0.7402 - val_auc_36: 0.6882\n",
            "Epoch 6/40\n",
            "4911/4911 [==============================] - 2s 446us/step - loss: 0.5135 - accuracy: 0.7677 - auc_36: 0.6985 - val_loss: 0.7015 - val_accuracy: 0.6311 - val_auc_36: 0.7071\n",
            "Epoch 7/40\n",
            "4911/4911 [==============================] - 2s 445us/step - loss: 0.4816 - accuracy: 0.7640 - auc_36: 0.7186 - val_loss: 0.8172 - val_accuracy: 0.7459 - val_auc_36: 0.7249\n",
            "Epoch 8/40\n",
            "4911/4911 [==============================] - 2s 442us/step - loss: 0.4279 - accuracy: 0.8184 - auc_36: 0.7348 - val_loss: 0.8479 - val_accuracy: 0.7036 - val_auc_36: 0.7422\n",
            "Epoch 9/40\n",
            "4911/4911 [==============================] - 2s 444us/step - loss: 0.3748 - accuracy: 0.8465 - auc_36: 0.7530 - val_loss: 0.7930 - val_accuracy: 0.5594 - val_auc_36: 0.7602\n",
            "Epoch 10/40\n",
            "4911/4911 [==============================] - 2s 444us/step - loss: 0.3804 - accuracy: 0.8259 - auc_36: 0.7678 - val_loss: 0.7960 - val_accuracy: 0.6303 - val_auc_36: 0.7741\n",
            "Epoch 11/40\n",
            "4911/4911 [==============================] - 2s 443us/step - loss: 0.2846 - accuracy: 0.8837 - auc_36: 0.7840 - val_loss: 1.2535 - val_accuracy: 0.7614 - val_auc_36: 0.7883\n",
            "Epoch 12/40\n",
            "4911/4911 [==============================] - 2s 442us/step - loss: 0.2430 - accuracy: 0.9012 - auc_36: 0.7950 - val_loss: 1.0472 - val_accuracy: 0.7093 - val_auc_36: 0.8006\n",
            "Epoch 13/40\n",
            "4911/4911 [==============================] - 2s 443us/step - loss: 0.2027 - accuracy: 0.9194 - auc_36: 0.8084 - val_loss: 1.2643 - val_accuracy: 0.7419 - val_auc_36: 0.8125\n",
            "Epoch 14/40\n",
            "4911/4911 [==============================] - 2s 443us/step - loss: 0.2017 - accuracy: 0.9263 - auc_36: 0.8182 - val_loss: 0.9639 - val_accuracy: 0.6368 - val_auc_36: 0.8231\n",
            "Epoch 15/40\n",
            "4911/4911 [==============================] - 2s 443us/step - loss: 0.1647 - accuracy: 0.9308 - auc_36: 0.8294 - val_loss: 1.2270 - val_accuracy: 0.7158 - val_auc_36: 0.8334\n",
            "Epoch 16/40\n",
            "4911/4911 [==============================] - 2s 445us/step - loss: 0.1320 - accuracy: 0.9495 - auc_36: 0.8389 - val_loss: 1.2441 - val_accuracy: 0.6881 - val_auc_36: 0.8425\n",
            "Epoch 17/40\n",
            "4911/4911 [==============================] - 2s 439us/step - loss: 0.1126 - accuracy: 0.9617 - auc_36: 0.8478 - val_loss: 1.3131 - val_accuracy: 0.6995 - val_auc_36: 0.8509\n",
            "Epoch 18/40\n",
            "4911/4911 [==============================] - 2s 442us/step - loss: 0.1101 - accuracy: 0.9589 - auc_36: 0.8552 - val_loss: 1.7647 - val_accuracy: 0.7451 - val_auc_36: 0.8571\n",
            "Epoch 19/40\n",
            "4911/4911 [==============================] - 2s 448us/step - loss: 0.0782 - accuracy: 0.9725 - auc_36: 0.8606 - val_loss: 1.4835 - val_accuracy: 0.7296 - val_auc_36: 0.8630\n",
            "Epoch 20/40\n",
            "4911/4911 [==============================] - 2s 445us/step - loss: 0.1082 - accuracy: 0.9550 - auc_36: 0.8662 - val_loss: 2.2686 - val_accuracy: 0.7598 - val_auc_36: 0.8668\n",
            "Epoch 21/40\n",
            "4911/4911 [==============================] - 2s 447us/step - loss: 0.0717 - accuracy: 0.9770 - auc_36: 0.8692 - val_loss: 1.7570 - val_accuracy: 0.7394 - val_auc_36: 0.8710\n",
            "Epoch 22/40\n",
            "4911/4911 [==============================] - 2s 444us/step - loss: 0.0583 - accuracy: 0.9811 - auc_36: 0.8739 - val_loss: 1.5845 - val_accuracy: 0.6808 - val_auc_36: 0.8758\n",
            "Epoch 23/40\n",
            "4911/4911 [==============================] - 2s 443us/step - loss: 0.1131 - accuracy: 0.9538 - auc_36: 0.8782 - val_loss: 2.3561 - val_accuracy: 0.7720 - val_auc_36: 0.8785\n",
            "Epoch 24/40\n",
            "4911/4911 [==============================] - 2s 444us/step - loss: 0.0883 - accuracy: 0.9640 - auc_36: 0.8798 - val_loss: 1.4220 - val_accuracy: 0.6824 - val_auc_36: 0.8814\n",
            "Epoch 25/40\n",
            "4911/4911 [==============================] - 2s 443us/step - loss: 0.0507 - accuracy: 0.9805 - auc_36: 0.8839 - val_loss: 2.2183 - val_accuracy: 0.7541 - val_auc_36: 0.8847\n",
            "Epoch 26/40\n",
            "4911/4911 [==============================] - 2s 443us/step - loss: 0.0390 - accuracy: 0.9878 - auc_36: 0.8864 - val_loss: 2.4519 - val_accuracy: 0.7549 - val_auc_36: 0.8871\n",
            "Epoch 27/40\n",
            "4911/4911 [==============================] - 2s 446us/step - loss: 0.0453 - accuracy: 0.9839 - auc_36: 0.8886 - val_loss: 3.1635 - val_accuracy: 0.7687 - val_auc_36: 0.8886\n",
            "Epoch 28/40\n",
            "4911/4911 [==============================] - 2s 441us/step - loss: 0.0401 - accuracy: 0.9878 - auc_36: 0.8897 - val_loss: 2.5969 - val_accuracy: 0.7516 - val_auc_36: 0.8901\n",
            "Epoch 29/40\n",
            "4911/4911 [==============================] - 2s 443us/step - loss: 0.0351 - accuracy: 0.9874 - auc_36: 0.8914 - val_loss: 3.3696 - val_accuracy: 0.7679 - val_auc_36: 0.8914\n",
            "Epoch 30/40\n",
            "4911/4911 [==============================] - 2s 445us/step - loss: 0.0414 - accuracy: 0.9845 - auc_36: 0.8923 - val_loss: 3.3020 - val_accuracy: 0.7761 - val_auc_36: 0.8923\n",
            "Epoch 31/40\n",
            "4911/4911 [==============================] - 2s 443us/step - loss: 0.0539 - accuracy: 0.9829 - auc_36: 0.8931 - val_loss: 3.2764 - val_accuracy: 0.7809 - val_auc_36: 0.8930\n",
            "Epoch 32/40\n",
            "4911/4911 [==============================] - 2s 445us/step - loss: 0.0318 - accuracy: 0.9882 - auc_36: 0.8939 - val_loss: 2.5225 - val_accuracy: 0.7533 - val_auc_36: 0.8943\n",
            "Epoch 33/40\n",
            "4911/4911 [==============================] - 2s 443us/step - loss: 0.0247 - accuracy: 0.9919 - auc_36: 0.8955 - val_loss: 2.5010 - val_accuracy: 0.7484 - val_auc_36: 0.8961\n",
            "Epoch 34/40\n",
            "4911/4911 [==============================] - 2s 443us/step - loss: 0.0213 - accuracy: 0.9933 - auc_36: 0.8973 - val_loss: 2.4929 - val_accuracy: 0.7394 - val_auc_36: 0.8978\n",
            "Epoch 35/40\n",
            "4911/4911 [==============================] - 2s 444us/step - loss: 0.0178 - accuracy: 0.9939 - auc_36: 0.8989 - val_loss: 2.7978 - val_accuracy: 0.7484 - val_auc_36: 0.8994\n",
            "Epoch 36/40\n",
            "4911/4911 [==============================] - 2s 443us/step - loss: 0.0200 - accuracy: 0.9941 - auc_36: 0.9003 - val_loss: 3.3768 - val_accuracy: 0.7663 - val_auc_36: 0.9004\n",
            "Epoch 37/40\n",
            "4911/4911 [==============================] - 2s 444us/step - loss: 0.0233 - accuracy: 0.9927 - auc_36: 0.9010 - val_loss: 3.2454 - val_accuracy: 0.7606 - val_auc_36: 0.9011\n",
            "Epoch 38/40\n",
            "4911/4911 [==============================] - 2s 443us/step - loss: 0.0179 - accuracy: 0.9957 - auc_36: 0.9017 - val_loss: 2.7737 - val_accuracy: 0.7378 - val_auc_36: 0.9021\n",
            "Epoch 39/40\n",
            "4911/4911 [==============================] - 2s 444us/step - loss: 0.0130 - accuracy: 0.9967 - auc_36: 0.9030 - val_loss: 2.6320 - val_accuracy: 0.7280 - val_auc_36: 0.9034\n",
            "Epoch 40/40\n",
            "4911/4911 [==============================] - 2s 444us/step - loss: 0.0141 - accuracy: 0.9957 - auc_36: 0.9042 - val_loss: 3.0469 - val_accuracy: 0.7459 - val_auc_36: 0.9044\n"
          ],
          "name": "stdout"
        }
      ]
    },
    {
      "cell_type": "code",
      "metadata": {
        "id": "wFiad4Fc00T8",
        "colab_type": "code",
        "colab": {
          "base_uri": "https://localhost:8080/",
          "height": 295
        },
        "outputId": "d8cd5524-834e-47da-c750-6540c1d550c5"
      },
      "source": [
        "plt.plot(longhistory_widecnn.history['accuracy'], \"b--\", label=\"Accuracy on training data\")\n",
        "plt.plot(longhistory_widecnn.history['val_accuracy'], \"b\", label=\"Accuracy on validation data\")\n",
        "plt.plot(longhistory_widecnn.history['loss'], \"r--\", label=\"Loss on training data\")\n",
        "plt.plot(longhistory_widecnn.history['val_loss'], \"r\", label=\"Loss on validation data\")\n",
        "plt.title('Model Accuracy and Loss')\n",
        "plt.ylabel('Accuracy and Loss')\n",
        "plt.xlabel('Training Epoch')\n",
        "plt.ylim(0)\n",
        "plt.legend()\n",
        "plt.savefig('40epochsOfwideCNN')\n",
        "plt.show()"
      ],
      "execution_count": null,
      "outputs": [
        {
          "output_type": "display_data",
          "data": {
            "image/png": "[encoded data removed]",
            "text/plain": [
              "<Figure size 432x288 with 1 Axes>"
            ]
          },
          "metadata": {
            "tags": [],
            "needs_background": "light"
          }
        }
      ]
    },
    {
      "cell_type": "code",
      "metadata": {
        "id": "c_uouyUAyTGO",
        "colab_type": "code",
        "colab": {
          "base_uri": "https://localhost:8080/",
          "height": 289
        },
        "outputId": "88fdf090-f8e7-4d77-c16a-8da22eb86e93"
      },
      "source": [
        "# WIDER ON SCORE\n",
        "# WIDECNN ON WHOLETRAIN, FIRST WITH A VALID SPLIT TO CHECK FOR OVERFITTING\n",
        "# THEN RETRAINED ON WHOLE DATA TO CHECK ON THE SCORE DATASET\n",
        "\n",
        "pr_hat=[]\n",
        "re_hat=[]\n",
        "f1_hat=[]\n",
        "avgacc_hat=[]\n",
        "rocauc_hat=[]\n",
        "for i in range(10):\n",
        "  modelmanywidecnn = wide_model_bigk() \n",
        "  # Fit the model\n",
        "  history_widecnn = modelmanywidecnn.fit(M_tensor, molclass,\n",
        "                      epochs=10, batch_size=256,\n",
        "                      verbose=False,\n",
        "                      class_weight=cw)\n",
        "\n",
        "  Y_test_predict = modelmanywidecnn.predict(Test_tensor)\n",
        "  y_true = testclass.astype(int)\n",
        "  y_pred = []\n",
        "  for prediction in Y_test_predict:\n",
        "      prediction = np.where(prediction>0.5, 1, 0)\n",
        "      y_pred.append(prediction)\n",
        "  y_pred = np.asarray(y_pred)\n",
        "  rep=classification_report(y_true, y_pred, output_dict=True)\n",
        "  pr, re, f1, avgacc, rocauc = rep['1']['precision'],rep['1']['recall'],rep['1']['f1-score'],rep['accuracy'], metrics.roc_auc_score(y_true, y_pred)\n",
        "  pr_hat.append(pr)\n",
        "  re_hat.append(re)\n",
        "  f1_hat.append(f1)\n",
        "  avgacc_hat.append(avgacc)\n",
        "  rocauc_hat.append(rocauc)\n",
        "  print('One run complete')\n",
        "\n",
        "pr_sd=np.std(pr_hat)\n",
        "re_sd=np.std(re_hat)\n",
        "f1_sd=np.std(f1_hat)\n",
        "avgacc_sd=np.std(avgacc_hat)\n",
        "rocauc_sd=np.std(rocauc_hat)\n",
        "\n",
        "pr_hat=np.mean(pr_hat)\n",
        "re_hat=np.mean(re_hat)\n",
        "f1_hat=np.mean(f1_hat)\n",
        "avgacc_hat=np.mean(avgacc_hat)\n",
        "rocauc_hat=np.mean(rocauc_hat)\n",
        "\n",
        "print('TEST (SCORE) STATISTICS FOR DEEP CNN MODEL')\n",
        "print('precision: %.2f +/- %.2f' % (pr_hat, pr_sd))\n",
        "print('recall: %.2f +/- %.2f' % (re_hat, re_sd))\n",
        "print('f1-score: %.2f +/- %.2f' % (f1_hat, f1_sd))\n",
        "print('accuracy: %.2f +/- %.2f' % (avgacc_hat, avgacc_sd))\n",
        "print('roc-auc: %.2f +/- %.2f' % (rocauc_hat, rocauc_sd))"
      ],
      "execution_count": null,
      "outputs": [
        {
          "output_type": "stream",
          "text": [
            "One run complete\n",
            "One run complete\n",
            "One run complete\n",
            "One run complete\n",
            "One run complete\n",
            "One run complete\n",
            "One run complete\n",
            "One run complete\n",
            "One run complete\n",
            "One run complete\n",
            "TEST (SCORE) STATISTICS FOR DEEP CNN MODEL\n",
            "precision: 0.35 +/- 0.03\n",
            "recall: 0.62 +/- 0.10\n",
            "f1-score: 0.44 +/- 0.02\n",
            "accuracy: 0.74 +/- 0.05\n",
            "roc-auc: 0.69 +/- 0.02\n"
          ],
          "name": "stdout"
        }
      ]
    },
    {
      "cell_type": "code",
      "metadata": {
        "id": "QjgoZ0cf_qvm",
        "colab_type": "code",
        "colab": {}
      },
      "source": [
        ""
      ],
      "execution_count": null,
      "outputs": []
    }
  ]
}